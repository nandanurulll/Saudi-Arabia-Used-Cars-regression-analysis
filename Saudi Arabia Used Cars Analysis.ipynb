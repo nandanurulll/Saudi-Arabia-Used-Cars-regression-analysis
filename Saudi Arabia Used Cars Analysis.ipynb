{
 "cells": [
  {
   "cell_type": "markdown",
   "id": "739903fa",
   "metadata": {
    "heading_collapsed": true
   },
   "source": [
    "# Saudi Arabia Used Cars"
   ]
  },
  {
   "cell_type": "markdown",
   "id": "fa30869e",
   "metadata": {
    "hidden": true
   },
   "source": [
    "Source: [Saudi Arabia Used Cars Dataset](https://www.kaggle.com/datasets/turkibintalib/saudi-arabia-used-cars-dataset)"
   ]
  },
  {
   "cell_type": "markdown",
   "id": "43be3123",
   "metadata": {},
   "source": [
    "# Content"
   ]
  },
  {
   "cell_type": "markdown",
   "id": "26698952",
   "metadata": {},
   "source": [
    "- Business Problem Understanding\n",
    "- Data Understanding\n",
    "- Data Preprocessing\n",
    "- Modeling\n",
    "- Conclusion\n",
    "- Recommendation"
   ]
  },
  {
   "cell_type": "markdown",
   "id": "79e6fccd",
   "metadata": {},
   "source": [
    "# Business Problem Understanding"
   ]
  },
  {
   "cell_type": "markdown",
   "id": "c61d58c7",
   "metadata": {},
   "source": [
    "**Context**\n",
    "\n",
    "Used cars adalah jenis kendaraan yang sebelumnya memiliki 1 atau lebih pemilik. Jenis mobil seperti ini sangat populer di negara berkembang seperti Saudi Arabia. Terjadi penurunan penjualan mobil baru pada tahun 2020 akibat lockdown total akibat Covid-19. Lockdown mengakibatkan orang-orang menjual mobilnya, sehingga terjadi pergeseran kepemilikan mobil. Ditambah lagi,  pemerintah memberlakukan pembatasan kegiatan masyarakatnya sehingga ekonomi mengalami kemunduran. Setelah pandemi berakhir, pasar mobil bekas lebih diminati daripada mobil baru karena orang mulai mencari mobil yang harganya terjangkau untuk perjalanan sehari-hari ataupun perjalanan jarak jauh. \n",
    "\n",
    "Bisnis mobil bekas merupakan salah satu bisnis yang sedang berkembang dan memiliki pasar yang kompetitif. Menjual dan membeli mobil bekas bisa menjadi hal yang sulit saat menentukan harga yang tepat. Jika harga mobil yang dijual terlalu mahal dibanding platform lain dengan fitur sejenis di wilayah sekitar tentu akan sulit menjual mobil tersebut. Sebaliknya,  jika harga mobil terlalu murah, tentu penjual mobil (host) tidak akan mendapatkan profit yang sepadan. Banyak faktor yang memengaruhi nilai dari suatu mobil bekas. Hal ini perlu dipahami oleh penjual karena berhubungan dengan profit yang akan didapat. \n",
    "\n",
    "syarah.com merupakan sebuah platform yang menyediakan dan menjual lebih  dari 50 merk mobil dan tersebar di lebih dari 20 Kota di Saudi Arabia. Platform ini hanya sebagai pihak ketiga antara pemilik mobil (host) dan calon pembeli mobil. model bisnis ini membebaskan host untuk menentukan harga jual mobilnya, hal ini menyulitkan host. Dataset yang digunakan ini berisi 5624 record mobil bekas yang dikumpulkan dari syarah.com. Setiap baris mewakili mobil bekas dengan informasi nama merk, model, tipe transmisi atau gear type, tahun pembuatan, asal, opsi, kapasitas mesin, jarak yang ditempuh mobil, status negosiasi, dan harga mobil.\n"
   ]
  },
  {
   "cell_type": "markdown",
   "id": "933f237e",
   "metadata": {},
   "source": [
    "**Problem Statement**\n",
    "\n",
    "Salah satu tantangan terbesar bagi perusahaan yang menjual mobil bekas adalah pemecehan masalah untuk dapat memiliki model bisnis yang menguntungkan secara finansial bagi pemilik/penjual (host) mobil dengan menjual mobil dengan harga yang sesuai, serta dapat memberikan pengalaman yang baik bagi pelanggan. Harga yang terlalu tinggi akan membuat pelanggan tidak tertarik untuk membeli dan memilih platform lain, namun harga yang terlalu rendah akan membuat pemilik rugi atau tidak mendapat profit yang sepadan."
   ]
  },
  {
   "cell_type": "markdown",
   "id": "68d73f05",
   "metadata": {},
   "source": [
    "**Goals**\n",
    "\n",
    "Berdasarkan permasalahan tersebut, perusahaan platform tentu perlu memiliki alat atau 'tool' yang dapat memprediksi serta membantu klien (pemilik mobil) untuk menentukan harga yang tepat untuk tiap mobil bekas yang akan dijual. Adanya perbedaan merk, model, tipe transmisi, jarak tempuh dan sebagainya dapat menambah keakuratan prediksi harga mobil bekas, yang mana dapat memberikan harga yang kompetitif di pasaran namun tetap mendatangkan profit bagi pemilik mobil juga harga yang masih terjangkau bagi pelanggan.\n",
    "\n",
    "Bagi perusahaan 'tool' ini dapat meningkatkan jumlah host dan listing, dengan kata lain, semakin banyak pemilik mobil yang ingin menjual mobilnya di platform ini dan pembeli yang membeli mobil di platform ini berarti dapat meningkatkan revenue perusahaan platform yang didapat dari 'fee charge' baik dari pemilik mobil maupun pembeli mobil.\n",
    "\n"
   ]
  },
  {
   "cell_type": "markdown",
   "id": "e02b3ba5",
   "metadata": {},
   "source": [
    "**Analytic Approach**\n",
    "\n",
    "Jadi, yang perlu kita lakukan adalah menganalisis data untuk dapat menemukan pola dari fitur-fitur yang ada, yang membedakan suatu mobil dengan yang lainnya. Selanjutnya, kita akan membangun suatu model regresi yang akan membantu perusahaan untuk dapat menyediakan 'tool' atau alat prediksi harga mobil bekas yang baru masuk dalam daftar, yang mana akan berguna bagi perusahaan dalam menentukan harga mobil bekas yang tepat agar terhindar dari underprice atau overprice."
   ]
  },
  {
   "cell_type": "markdown",
   "id": "45db24cc",
   "metadata": {},
   "source": [
    "**Metric Evaluation**\n",
    "\n",
    "Metric Evaluasi yang akan digunakan adalah MAPE, MAE, dan RMSE. RMSE adalah nilai rataan akar kuadrat dari error, MAE adalah rataan nilai absolut dari error, sedangkan MAPE adalah rataan presentase error yang dihasilkan oleh model regresi. Semakin kecil nilai RMSE, MAE, dan MAPE yang dihasilkan berarti model semakin akurat dalam mempredisksi harga mobil bekas sesuai dengan limitasi fitur yang digunakan.\n",
    "\n",
    "Selain itu, kita juga bisa menggunakan nilai R-squared atau adj. R-squared jika model yang nanti terpilih sebagai final model adalah model regresi linear. Nilai R-squared digunakan unutk mengetahui seberapa baik model dapat merepresentasikan varians keseluruhan data, semakin mendekati 1 maka semakin bagus modelnya terhadap data observasi. Namun, metrik R-squared tidak valid untuk model non linear."
   ]
  },
  {
   "cell_type": "markdown",
   "id": "cfb7896c",
   "metadata": {},
   "source": [
    "# Data Understanding"
   ]
  },
  {
   "cell_type": "markdown",
   "id": "b0989213",
   "metadata": {},
   "source": [
    "* Setiap baris data merepresentasikan informasi mobil yang akan dijual"
   ]
  },
  {
   "cell_type": "markdown",
   "id": "75c4d505",
   "metadata": {},
   "source": [
    "\n",
    "**Attribute Information**\n",
    "\n",
    "| **Attribute** | **Data Type** | **Description** |\n",
    "| --- | --- | --- |\n",
    "| Type | Object | Name of a car product |\n",
    "| Region | Object | The region in which the used car was offered for sale |\n",
    "| Make | Object | Name of the car company |\n",
    "| Gear_Type | Object | Automatic / Manual |\n",
    "| Origin | Object | Country of Importer (Gulf / Saudi / Other) |\n",
    "| Options | Object | Full Options / Semi-Full / Standard |\n",
    "| Year | Integer | Year of Manufacturing |\n",
    "| Engine_size | Float | The engine size of used car |\n",
    "| Mileage | Integer | The average distance that a vehicle can travel on (in km) |\n",
    "| Negotiable | Bool | If True, the price is 0. This means the price not set (Negotiable) |\n",
    "| Price | Integer | Price of the used car (in SAR) |\n",
    "\n",
    "<br>"
   ]
  },
  {
   "cell_type": "markdown",
   "id": "6e234a2e",
   "metadata": {},
   "source": [
    "Pada tabel diatas terlihat bahwa dataset ini terdiri dari 11 kolom. Kolom 'Price' merupakan target atau variabel dependen, sedangkan 10 kolom lainnya merupakan fitur atau variabel independen. Goals yang akan kita capai adalah membuat prediksi harga mobil dengan menggunakan fitur-fitur yang yang ada pada dataset."
   ]
  },
  {
   "cell_type": "code",
   "execution_count": 1,
   "id": "6d8d13d4",
   "metadata": {},
   "outputs": [],
   "source": [
    "# Library yang diperlukan untuk eksplorasi data\n",
    "import pandas as pd\n",
    "import numpy as np\n",
    "import seaborn as sns\n",
    "import matplotlib.pyplot as plt\n",
    "\n",
    "import warnings\n",
    "warnings.filterwarnings(\"ignore\")"
   ]
  },
  {
   "cell_type": "code",
   "execution_count": 2,
   "id": "8ba4ecd2",
   "metadata": {
    "scrolled": false
   },
   "outputs": [
    {
     "data": {
      "text/html": [
       "<div>\n",
       "<style scoped>\n",
       "    .dataframe tbody tr th:only-of-type {\n",
       "        vertical-align: middle;\n",
       "    }\n",
       "\n",
       "    .dataframe tbody tr th {\n",
       "        vertical-align: top;\n",
       "    }\n",
       "\n",
       "    .dataframe thead th {\n",
       "        text-align: right;\n",
       "    }\n",
       "</style>\n",
       "<table border=\"1\" class=\"dataframe\">\n",
       "  <thead>\n",
       "    <tr style=\"text-align: right;\">\n",
       "      <th></th>\n",
       "      <th>Type</th>\n",
       "      <th>Region</th>\n",
       "      <th>Make</th>\n",
       "      <th>Gear_Type</th>\n",
       "      <th>Origin</th>\n",
       "      <th>Options</th>\n",
       "      <th>Year</th>\n",
       "      <th>Engine_Size</th>\n",
       "      <th>Mileage</th>\n",
       "      <th>Negotiable</th>\n",
       "      <th>Price</th>\n",
       "    </tr>\n",
       "  </thead>\n",
       "  <tbody>\n",
       "    <tr>\n",
       "      <th>0</th>\n",
       "      <td>Corolla</td>\n",
       "      <td>Abha</td>\n",
       "      <td>Toyota</td>\n",
       "      <td>Manual</td>\n",
       "      <td>Saudi</td>\n",
       "      <td>Standard</td>\n",
       "      <td>2013</td>\n",
       "      <td>1.4</td>\n",
       "      <td>421000</td>\n",
       "      <td>True</td>\n",
       "      <td>0</td>\n",
       "    </tr>\n",
       "    <tr>\n",
       "      <th>1</th>\n",
       "      <td>Yukon</td>\n",
       "      <td>Riyadh</td>\n",
       "      <td>GMC</td>\n",
       "      <td>Automatic</td>\n",
       "      <td>Saudi</td>\n",
       "      <td>Full</td>\n",
       "      <td>2014</td>\n",
       "      <td>8.0</td>\n",
       "      <td>80000</td>\n",
       "      <td>False</td>\n",
       "      <td>120000</td>\n",
       "    </tr>\n",
       "    <tr>\n",
       "      <th>2</th>\n",
       "      <td>Range Rover</td>\n",
       "      <td>Riyadh</td>\n",
       "      <td>Land Rover</td>\n",
       "      <td>Automatic</td>\n",
       "      <td>Gulf Arabic</td>\n",
       "      <td>Full</td>\n",
       "      <td>2015</td>\n",
       "      <td>5.0</td>\n",
       "      <td>140000</td>\n",
       "      <td>False</td>\n",
       "      <td>260000</td>\n",
       "    </tr>\n",
       "    <tr>\n",
       "      <th>3</th>\n",
       "      <td>Optima</td>\n",
       "      <td>Hafar Al-Batin</td>\n",
       "      <td>Kia</td>\n",
       "      <td>Automatic</td>\n",
       "      <td>Saudi</td>\n",
       "      <td>Semi Full</td>\n",
       "      <td>2015</td>\n",
       "      <td>2.4</td>\n",
       "      <td>220000</td>\n",
       "      <td>False</td>\n",
       "      <td>42000</td>\n",
       "    </tr>\n",
       "    <tr>\n",
       "      <th>4</th>\n",
       "      <td>FJ</td>\n",
       "      <td>Riyadh</td>\n",
       "      <td>Toyota</td>\n",
       "      <td>Automatic</td>\n",
       "      <td>Saudi</td>\n",
       "      <td>Full</td>\n",
       "      <td>2020</td>\n",
       "      <td>4.0</td>\n",
       "      <td>49000</td>\n",
       "      <td>True</td>\n",
       "      <td>0</td>\n",
       "    </tr>\n",
       "    <tr>\n",
       "      <th>...</th>\n",
       "      <td>...</td>\n",
       "      <td>...</td>\n",
       "      <td>...</td>\n",
       "      <td>...</td>\n",
       "      <td>...</td>\n",
       "      <td>...</td>\n",
       "      <td>...</td>\n",
       "      <td>...</td>\n",
       "      <td>...</td>\n",
       "      <td>...</td>\n",
       "      <td>...</td>\n",
       "    </tr>\n",
       "    <tr>\n",
       "      <th>5619</th>\n",
       "      <td>X-Trail</td>\n",
       "      <td>Jeddah</td>\n",
       "      <td>Nissan</td>\n",
       "      <td>Automatic</td>\n",
       "      <td>Saudi</td>\n",
       "      <td>Standard</td>\n",
       "      <td>2018</td>\n",
       "      <td>2.5</td>\n",
       "      <td>78794</td>\n",
       "      <td>False</td>\n",
       "      <td>68000</td>\n",
       "    </tr>\n",
       "    <tr>\n",
       "      <th>5620</th>\n",
       "      <td>Altima</td>\n",
       "      <td>Jeddah</td>\n",
       "      <td>Nissan</td>\n",
       "      <td>Automatic</td>\n",
       "      <td>Saudi</td>\n",
       "      <td>Semi Full</td>\n",
       "      <td>2020</td>\n",
       "      <td>2.5</td>\n",
       "      <td>58000</td>\n",
       "      <td>True</td>\n",
       "      <td>0</td>\n",
       "    </tr>\n",
       "    <tr>\n",
       "      <th>5621</th>\n",
       "      <td>Yukon</td>\n",
       "      <td>Dammam</td>\n",
       "      <td>GMC</td>\n",
       "      <td>Automatic</td>\n",
       "      <td>Saudi</td>\n",
       "      <td>Full</td>\n",
       "      <td>2016</td>\n",
       "      <td>5.3</td>\n",
       "      <td>48000</td>\n",
       "      <td>False</td>\n",
       "      <td>145000</td>\n",
       "    </tr>\n",
       "    <tr>\n",
       "      <th>5622</th>\n",
       "      <td>RX</td>\n",
       "      <td>Dammam</td>\n",
       "      <td>Lexus</td>\n",
       "      <td>Automatic</td>\n",
       "      <td>Gulf Arabic</td>\n",
       "      <td>Full</td>\n",
       "      <td>2016</td>\n",
       "      <td>2.5</td>\n",
       "      <td>81000</td>\n",
       "      <td>False</td>\n",
       "      <td>154000</td>\n",
       "    </tr>\n",
       "    <tr>\n",
       "      <th>5623</th>\n",
       "      <td>ES</td>\n",
       "      <td>Jeddah</td>\n",
       "      <td>Lexus</td>\n",
       "      <td>Automatic</td>\n",
       "      <td>Other</td>\n",
       "      <td>Full</td>\n",
       "      <td>2017</td>\n",
       "      <td>3.5</td>\n",
       "      <td>115000</td>\n",
       "      <td>True</td>\n",
       "      <td>0</td>\n",
       "    </tr>\n",
       "  </tbody>\n",
       "</table>\n",
       "<p>5624 rows × 11 columns</p>\n",
       "</div>"
      ],
      "text/plain": [
       "             Type          Region        Make  Gear_Type       Origin  \\\n",
       "0         Corolla            Abha      Toyota     Manual        Saudi   \n",
       "1           Yukon          Riyadh         GMC  Automatic        Saudi   \n",
       "2     Range Rover          Riyadh  Land Rover  Automatic  Gulf Arabic   \n",
       "3          Optima  Hafar Al-Batin         Kia  Automatic        Saudi   \n",
       "4              FJ          Riyadh      Toyota  Automatic        Saudi   \n",
       "...           ...             ...         ...        ...          ...   \n",
       "5619      X-Trail          Jeddah      Nissan  Automatic        Saudi   \n",
       "5620       Altima          Jeddah      Nissan  Automatic        Saudi   \n",
       "5621        Yukon          Dammam         GMC  Automatic        Saudi   \n",
       "5622           RX          Dammam       Lexus  Automatic  Gulf Arabic   \n",
       "5623           ES          Jeddah       Lexus  Automatic        Other   \n",
       "\n",
       "        Options  Year  Engine_Size  Mileage  Negotiable   Price  \n",
       "0      Standard  2013          1.4   421000        True       0  \n",
       "1          Full  2014          8.0    80000       False  120000  \n",
       "2          Full  2015          5.0   140000       False  260000  \n",
       "3     Semi Full  2015          2.4   220000       False   42000  \n",
       "4          Full  2020          4.0    49000        True       0  \n",
       "...         ...   ...          ...      ...         ...     ...  \n",
       "5619   Standard  2018          2.5    78794       False   68000  \n",
       "5620  Semi Full  2020          2.5    58000        True       0  \n",
       "5621       Full  2016          5.3    48000       False  145000  \n",
       "5622       Full  2016          2.5    81000       False  154000  \n",
       "5623       Full  2017          3.5   115000        True       0  \n",
       "\n",
       "[5624 rows x 11 columns]"
      ]
     },
     "execution_count": 2,
     "metadata": {},
     "output_type": "execute_result"
    }
   ],
   "source": [
    "# Read dataset\n",
    "df = pd.read_csv('data_saudi_used_cars.csv')\n",
    "df"
   ]
  },
  {
   "cell_type": "markdown",
   "id": "dcb92d3e",
   "metadata": {},
   "source": [
    "## Exploratory Data Analysis"
   ]
  },
  {
   "cell_type": "markdown",
   "id": "0dff123c",
   "metadata": {},
   "source": [
    "**Distribution of Saudi Arabia Used Cars price**"
   ]
  },
  {
   "cell_type": "code",
   "execution_count": 3,
   "id": "40508ab2",
   "metadata": {},
   "outputs": [
    {
     "data": {
      "image/png": "[encoded data removed]",
      "text/plain": [
       "<Figure size 576x432 with 1 Axes>"
      ]
     },
     "metadata": {
      "needs_background": "light"
     },
     "output_type": "display_data"
    }
   ],
   "source": [
    "plt.figure(figsize=(8, 6))\n",
    "sns.distplot(df['Price'])\n",
    "plt.title('Price Distribution Plot', size=16);"
   ]
  },
  {
   "cell_type": "markdown",
   "id": "ded9fcd7",
   "metadata": {},
   "source": [
    "Berdasarkan plot distribusi harga mobil bekas diatas, terlihat bahwa terdapat 'right-skewed distribution'. Dengan kata lain, terdapat skewed positif pada fitur price."
   ]
  },
  {
   "cell_type": "code",
   "execution_count": 4,
   "id": "285fef36",
   "metadata": {},
   "outputs": [
    {
     "data": {
      "image/png": "[encoded data removed]",
      "text/plain": [
       "<Figure size 1080x576 with 1 Axes>"
      ]
     },
     "metadata": {
      "needs_background": "light"
     },
     "output_type": "display_data"
    }
   ],
   "source": [
    "# Mengetahui Mobil keluaran tahun berapa saja yang dijual oleh syarah.com melalui visualisasi\n",
    "\n",
    "plt.figure(figsize=(15,8))\n",
    "sns.countplot(df['Year'],\n",
    "            order = df['Year'].value_counts().index.sort_values(), palette='pastel')\n",
    "plt.xticks(np.arange(len(df['Year'].unique())), rotation=45)\n",
    "plt.xlabel('Year', size = 8)\n",
    "plt.ylabel('Jumlah mobil', size = 8)\n",
    "plt.title ('Jumlah Mobil berdasarkan tahun Keluarannya', size = 16)\n",
    "plt.show()"
   ]
  },
  {
   "cell_type": "markdown",
   "id": "97f84bcb",
   "metadata": {},
   "source": [
    "Berdasarkan gambar diatas terlihat bahwa pada perusahaan syarah.com mobil yang tersedia paling banyak adalah mobil bekas keluaran tahun 2016. Syarah.com juga menyediakan beberapa mobil bekas klasik karena terlihat pada gambar bahwa terdapat beberapa mobil dengan tahun keluaran lama (tahun 1963-1999)."
   ]
  },
  {
   "cell_type": "code",
   "execution_count": 5,
   "id": "5de71635",
   "metadata": {
    "scrolled": false
   },
   "outputs": [
    {
     "data": {
      "image/png": "[encoded data removed]",
      "text/plain": [
       "<Figure size 720x360 with 1 Axes>"
      ]
     },
     "metadata": {
      "needs_background": "light"
     },
     "output_type": "display_data"
    },
    {
     "data": {
      "image/png": "[encoded data removed]",
      "text/plain": [
       "<Figure size 720x360 with 1 Axes>"
      ]
     },
     "metadata": {
      "needs_background": "light"
     },
     "output_type": "display_data"
    }
   ],
   "source": [
    "# Mengetahui 10 company mobil yang dijual perusahaan\n",
    "a = df['Make'].value_counts().sort_values(ascending=False).iloc[:10]\n",
    "plt.figure(figsize=(10,5))\n",
    "sns.barplot(x=a.index, y=a, palette='pastel')\n",
    "plt.title('Jumlah mobil bekas berdasarkan Merk Mobil')\n",
    "plt.xticks(np.arange(len(a.unique())), rotation=90)\n",
    "plt.xlabel('Merk Mobil')\n",
    "plt.ylabel('Jumlah Mobil')\n",
    "plt.show()\n",
    "\n",
    "\n",
    "# 10 Tipe mobil yang dijual\n",
    "b = df['Type'].value_counts().sort_values(ascending=False).iloc[:10]\n",
    "\n",
    "plt.figure(figsize=(10,5))\n",
    "sns.barplot(x=b.index, y=b, palette='pastel')\n",
    "plt.title('Jumlah mobil bekas berdasarkan Tipe Mobil')\n",
    "plt.xticks(np.arange(len(b.unique())), rotation=90)\n",
    "plt.xlabel('Tipe Mobil')\n",
    "plt.ylabel('Jumlah Mobil')\n",
    "plt.show()"
   ]
  },
  {
   "cell_type": "markdown",
   "id": "bc3c00dc",
   "metadata": {},
   "source": [
    "Terlihat pada tabel bahwa:\n",
    "* Mobil bekas yang banyak dijual merupakan mobil merk Toyota, Hyundai, dan Ford. \n",
    "* Tipe mobil bekas yang paling banyak dijual merupakan mobil Land Cruiser, Camry, dan Hilux."
   ]
  },
  {
   "cell_type": "code",
   "execution_count": 6,
   "id": "0c7d2b53",
   "metadata": {
    "scrolled": false
   },
   "outputs": [
    {
     "data": {
      "image/png": "[encoded data removed]",
      "text/plain": [
       "<Figure size 720x360 with 1 Axes>"
      ]
     },
     "metadata": {
      "needs_background": "light"
     },
     "output_type": "display_data"
    }
   ],
   "source": [
    "# 10 Wilayah dengan jumlah mobil bekas yang dijual terbanyak\n",
    "\n",
    "reg = df.groupby(['Region'])['Price'].median().sort_values(ascending=False).iloc[:10]\n",
    "plt.figure(figsize=(10,5))\n",
    "sns.barplot(x=reg.index, y=reg, palette='pastel')\n",
    "plt.title('Median harga mobil bekas berdasarkan Lokasi di jualnya')\n",
    "plt.xticks(np.arange(len(reg.unique())), rotation=45)\n",
    "plt.xlabel('Region')\n",
    "plt.ylabel('Price')\n",
    "plt.show()"
   ]
  },
  {
   "cell_type": "markdown",
   "id": "966cc904",
   "metadata": {},
   "source": [
    "Berdasarkan visualisasi diatas terlihat bahwa wilayah Dammam dan Riyadh merupakan wilayah yang memiliki median harga mobil tertinggi diantara wilayah lain yaitu lebih dari 40000 SAR."
   ]
  },
  {
   "cell_type": "code",
   "execution_count": 7,
   "id": "ef39dc30",
   "metadata": {
    "scrolled": false
   },
   "outputs": [
    {
     "data": {
      "image/png": "[encoded data removed]",
      "text/plain": [
       "<Figure size 576x432 with 1 Axes>"
      ]
     },
     "metadata": {
      "needs_background": "light"
     },
     "output_type": "display_data"
    }
   ],
   "source": [
    "plt.figure(figsize=(8,6))\n",
    "origin = df.groupby(['Origin'])['Price'].median().sort_values(ascending=False)\n",
    "sns.barplot(x=origin.index, y=origin, palette='pastel')\n",
    "plt.title('Median Harga Mobil bekas berdasarkan Origin')\n",
    "plt.xlabel('Origin')\n",
    "plt.ylabel('Harga Mobil')\n",
    "plt.show()"
   ]
  },
  {
   "cell_type": "markdown",
   "id": "468ebc2f",
   "metadata": {},
   "source": [
    "Dari gambar diatas terlihat bahwa median tertinggi harga mobil bekas yang dijual berasal dari Saudi, namun terlihat bahwa terdapat value unknown pada kolom origin, data anomali ini akan kita tangani pada step cleaning."
   ]
  },
  {
   "cell_type": "code",
   "execution_count": 8,
   "id": "6e9e8641",
   "metadata": {
    "scrolled": false
   },
   "outputs": [
    {
     "data": {
      "image/png": "[encoded data removed]",
      "text/plain": [
       "<Figure size 1080x504 with 2 Axes>"
      ]
     },
     "metadata": {
      "needs_background": "light"
     },
     "output_type": "display_data"
    }
   ],
   "source": [
    "plt.figure(figsize=(15,7))\n",
    "\n",
    "# Perbandingan median harga setiap gear type\n",
    "plt.subplot(1,2,1)\n",
    "sns.barplot(x=df['Gear_Type'], y=df['Price'], estimator=np.median, palette='pastel')\n",
    "plt.title('Perbandingan Median Harga Pada setiap Gear Type')\n",
    "plt.xlabel('Gear type')\n",
    "plt.ylabel('Harga Mobil')\n",
    "\n",
    "\n",
    "# Perbandingan median harga setiap tipe mesin\n",
    "plt.subplot(1,2,2)\n",
    "ax = sns.barplot(x=df['Options'], y=df['Price'], estimator=np.median, palette='pastel')\n",
    "plt.title('Perbandingan Median Harga Pada Setiap Tipe Mesin')\n",
    "plt.xlabel('Tipe Mesin')\n",
    "plt.ylabel('Harga Mobil')\n",
    "plt.show()"
   ]
  },
  {
   "cell_type": "markdown",
   "id": "e6b0e96e",
   "metadata": {},
   "source": [
    "* Mobil automatic memiliki median harga yang jauh lebih tinggi dibandingkan mobil manual\n",
    "* Mobil dengan tipe mesin full memiliki median harga paling tinggi dibandingkan dengan mobil dengan tipe mesin standar dan semi full"
   ]
  },
  {
   "cell_type": "markdown",
   "id": "3bd0d404",
   "metadata": {},
   "source": [
    "# Data Preprocessing"
   ]
  },
  {
   "cell_type": "markdown",
   "id": "bf582fef",
   "metadata": {},
   "source": [
    "Pada tahap ini akan dilakukan cleaning pada data sehingga nantinya data yang sudah diberisihkan akan digunakan untuk proses analisis selanjutnya. Beberapa hal yang perlu dilakukan adalah:\n",
    "* Pengecekan terhadap data duplikat.\n",
    "* Pengecekan anomali data dan jika ada lakukan treatment.\n",
    "* Drop fitur yang tidak memiliki relevansi terhadap permasalahan yang sedang dihadapi.\n",
    "* Jika ada missing value lakukan treatment dengan cara *drop* fiturnya jika memang tidak diperlukan atau dengan mengimputasi dengan nilai yang plaing masuk akal sesuai dengan kasusnya."
   ]
  },
  {
   "cell_type": "markdown",
   "id": "5df4ae85",
   "metadata": {},
   "source": [
    "Untuk proses data preprocessing dan feature engineering, datafram yang akan digunakan adalah dataframe hasil duplikasi dari dataframe yang sebelumnya."
   ]
  },
  {
   "cell_type": "code",
   "execution_count": 9,
   "id": "abfc0bd1",
   "metadata": {},
   "outputs": [],
   "source": [
    "# duplikasi dataframe\n",
    "df_model = df.copy()"
   ]
  },
  {
   "cell_type": "code",
   "execution_count": 10,
   "id": "a7519553",
   "metadata": {
    "scrolled": false
   },
   "outputs": [
    {
     "data": {
      "text/html": [
       "<div>\n",
       "<style scoped>\n",
       "    .dataframe tbody tr th:only-of-type {\n",
       "        vertical-align: middle;\n",
       "    }\n",
       "\n",
       "    .dataframe tbody tr th {\n",
       "        vertical-align: top;\n",
       "    }\n",
       "\n",
       "    .dataframe thead th {\n",
       "        text-align: right;\n",
       "    }\n",
       "</style>\n",
       "<table border=\"1\" class=\"dataframe\">\n",
       "  <thead>\n",
       "    <tr style=\"text-align: right;\">\n",
       "      <th></th>\n",
       "      <th>Type</th>\n",
       "      <th>Region</th>\n",
       "      <th>Make</th>\n",
       "      <th>Gear_Type</th>\n",
       "      <th>Origin</th>\n",
       "      <th>Options</th>\n",
       "      <th>Year</th>\n",
       "      <th>Engine_Size</th>\n",
       "      <th>Mileage</th>\n",
       "      <th>Negotiable</th>\n",
       "      <th>Price</th>\n",
       "    </tr>\n",
       "  </thead>\n",
       "  <tbody>\n",
       "    <tr>\n",
       "      <th>236</th>\n",
       "      <td>Sonata</td>\n",
       "      <td>Jeddah</td>\n",
       "      <td>Hyundai</td>\n",
       "      <td>Automatic</td>\n",
       "      <td>Saudi</td>\n",
       "      <td>Standard</td>\n",
       "      <td>2020</td>\n",
       "      <td>2.4</td>\n",
       "      <td>100</td>\n",
       "      <td>False</td>\n",
       "      <td>72910</td>\n",
       "    </tr>\n",
       "    <tr>\n",
       "      <th>540</th>\n",
       "      <td>Rio</td>\n",
       "      <td>Riyadh</td>\n",
       "      <td>Kia</td>\n",
       "      <td>Automatic</td>\n",
       "      <td>Saudi</td>\n",
       "      <td>Standard</td>\n",
       "      <td>2016</td>\n",
       "      <td>1.4</td>\n",
       "      <td>270000</td>\n",
       "      <td>False</td>\n",
       "      <td>25000</td>\n",
       "    </tr>\n",
       "    <tr>\n",
       "      <th>953</th>\n",
       "      <td>Rio</td>\n",
       "      <td>Riyadh</td>\n",
       "      <td>Kia</td>\n",
       "      <td>Automatic</td>\n",
       "      <td>Saudi</td>\n",
       "      <td>Standard</td>\n",
       "      <td>2016</td>\n",
       "      <td>1.4</td>\n",
       "      <td>270000</td>\n",
       "      <td>False</td>\n",
       "      <td>25000</td>\n",
       "    </tr>\n",
       "    <tr>\n",
       "      <th>2012</th>\n",
       "      <td>Tucson</td>\n",
       "      <td>Dammam</td>\n",
       "      <td>Hyundai</td>\n",
       "      <td>Automatic</td>\n",
       "      <td>Saudi</td>\n",
       "      <td>Standard</td>\n",
       "      <td>2016</td>\n",
       "      <td>2.0</td>\n",
       "      <td>155000</td>\n",
       "      <td>False</td>\n",
       "      <td>45000</td>\n",
       "    </tr>\n",
       "    <tr>\n",
       "      <th>3631</th>\n",
       "      <td>Camry</td>\n",
       "      <td>Riyadh</td>\n",
       "      <td>Toyota</td>\n",
       "      <td>Automatic</td>\n",
       "      <td>Saudi</td>\n",
       "      <td>Full</td>\n",
       "      <td>2013</td>\n",
       "      <td>2.5</td>\n",
       "      <td>185000</td>\n",
       "      <td>True</td>\n",
       "      <td>0</td>\n",
       "    </tr>\n",
       "    <tr>\n",
       "      <th>4646</th>\n",
       "      <td>Sonata</td>\n",
       "      <td>Jeddah</td>\n",
       "      <td>Hyundai</td>\n",
       "      <td>Automatic</td>\n",
       "      <td>Saudi</td>\n",
       "      <td>Standard</td>\n",
       "      <td>2020</td>\n",
       "      <td>2.4</td>\n",
       "      <td>100</td>\n",
       "      <td>False</td>\n",
       "      <td>72910</td>\n",
       "    </tr>\n",
       "    <tr>\n",
       "      <th>4933</th>\n",
       "      <td>Tucson</td>\n",
       "      <td>Dammam</td>\n",
       "      <td>Hyundai</td>\n",
       "      <td>Automatic</td>\n",
       "      <td>Saudi</td>\n",
       "      <td>Standard</td>\n",
       "      <td>2016</td>\n",
       "      <td>2.0</td>\n",
       "      <td>155000</td>\n",
       "      <td>False</td>\n",
       "      <td>45000</td>\n",
       "    </tr>\n",
       "    <tr>\n",
       "      <th>5267</th>\n",
       "      <td>Camry</td>\n",
       "      <td>Riyadh</td>\n",
       "      <td>Toyota</td>\n",
       "      <td>Automatic</td>\n",
       "      <td>Saudi</td>\n",
       "      <td>Full</td>\n",
       "      <td>2013</td>\n",
       "      <td>2.5</td>\n",
       "      <td>185000</td>\n",
       "      <td>True</td>\n",
       "      <td>0</td>\n",
       "    </tr>\n",
       "  </tbody>\n",
       "</table>\n",
       "</div>"
      ],
      "text/plain": [
       "        Type  Region     Make  Gear_Type Origin   Options  Year  Engine_Size  \\\n",
       "236   Sonata  Jeddah  Hyundai  Automatic  Saudi  Standard  2020          2.4   \n",
       "540      Rio  Riyadh      Kia  Automatic  Saudi  Standard  2016          1.4   \n",
       "953      Rio  Riyadh      Kia  Automatic  Saudi  Standard  2016          1.4   \n",
       "2012  Tucson  Dammam  Hyundai  Automatic  Saudi  Standard  2016          2.0   \n",
       "3631   Camry  Riyadh   Toyota  Automatic  Saudi      Full  2013          2.5   \n",
       "4646  Sonata  Jeddah  Hyundai  Automatic  Saudi  Standard  2020          2.4   \n",
       "4933  Tucson  Dammam  Hyundai  Automatic  Saudi  Standard  2016          2.0   \n",
       "5267   Camry  Riyadh   Toyota  Automatic  Saudi      Full  2013          2.5   \n",
       "\n",
       "      Mileage  Negotiable  Price  \n",
       "236       100       False  72910  \n",
       "540    270000       False  25000  \n",
       "953    270000       False  25000  \n",
       "2012   155000       False  45000  \n",
       "3631   185000        True      0  \n",
       "4646      100       False  72910  \n",
       "4933   155000       False  45000  \n",
       "5267   185000        True      0  "
      ]
     },
     "execution_count": 10,
     "metadata": {},
     "output_type": "execute_result"
    }
   ],
   "source": [
    "# Check duplikat data\n",
    "df_model[df_model.duplicated(keep=False) == True]"
   ]
  },
  {
   "cell_type": "code",
   "execution_count": 11,
   "id": "9a33b9da",
   "metadata": {},
   "outputs": [],
   "source": [
    "# drop duplikat data\n",
    "df_model.drop_duplicates(inplace=True)"
   ]
  },
  {
   "cell_type": "code",
   "execution_count": 12,
   "id": "821d7e31",
   "metadata": {
    "scrolled": true
   },
   "outputs": [
    {
     "data": {
      "text/html": [
       "<div>\n",
       "<style scoped>\n",
       "    .dataframe tbody tr th:only-of-type {\n",
       "        vertical-align: middle;\n",
       "    }\n",
       "\n",
       "    .dataframe tbody tr th {\n",
       "        vertical-align: top;\n",
       "    }\n",
       "\n",
       "    .dataframe thead th {\n",
       "        text-align: right;\n",
       "    }\n",
       "</style>\n",
       "<table border=\"1\" class=\"dataframe\">\n",
       "  <thead>\n",
       "    <tr style=\"text-align: right;\">\n",
       "      <th></th>\n",
       "      <th>Nama Variabel</th>\n",
       "      <th>Tipe Data</th>\n",
       "      <th>Null</th>\n",
       "      <th>Presentase Null</th>\n",
       "      <th>Jumlah Unique</th>\n",
       "      <th>Unique</th>\n",
       "    </tr>\n",
       "  </thead>\n",
       "  <tbody>\n",
       "    <tr>\n",
       "      <th>0</th>\n",
       "      <td>Type</td>\n",
       "      <td>object</td>\n",
       "      <td>0</td>\n",
       "      <td>0.0</td>\n",
       "      <td>347</td>\n",
       "      <td>[Kaptiva, Charger]</td>\n",
       "    </tr>\n",
       "    <tr>\n",
       "      <th>1</th>\n",
       "      <td>Region</td>\n",
       "      <td>object</td>\n",
       "      <td>0</td>\n",
       "      <td>0.0</td>\n",
       "      <td>27</td>\n",
       "      <td>[Al-Ahsa, Al-Medina]</td>\n",
       "    </tr>\n",
       "    <tr>\n",
       "      <th>2</th>\n",
       "      <td>Make</td>\n",
       "      <td>object</td>\n",
       "      <td>0</td>\n",
       "      <td>0.0</td>\n",
       "      <td>58</td>\n",
       "      <td>[BMW, Genesis]</td>\n",
       "    </tr>\n",
       "    <tr>\n",
       "      <th>3</th>\n",
       "      <td>Gear_Type</td>\n",
       "      <td>object</td>\n",
       "      <td>0</td>\n",
       "      <td>0.0</td>\n",
       "      <td>2</td>\n",
       "      <td>[Manual, Automatic]</td>\n",
       "    </tr>\n",
       "    <tr>\n",
       "      <th>4</th>\n",
       "      <td>Origin</td>\n",
       "      <td>object</td>\n",
       "      <td>0</td>\n",
       "      <td>0.0</td>\n",
       "      <td>4</td>\n",
       "      <td>[Gulf Arabic, Saudi]</td>\n",
       "    </tr>\n",
       "    <tr>\n",
       "      <th>5</th>\n",
       "      <td>Options</td>\n",
       "      <td>object</td>\n",
       "      <td>0</td>\n",
       "      <td>0.0</td>\n",
       "      <td>3</td>\n",
       "      <td>[Standard, Full]</td>\n",
       "    </tr>\n",
       "    <tr>\n",
       "      <th>6</th>\n",
       "      <td>Year</td>\n",
       "      <td>int64</td>\n",
       "      <td>0</td>\n",
       "      <td>0.0</td>\n",
       "      <td>50</td>\n",
       "      <td>[1993, 2009]</td>\n",
       "    </tr>\n",
       "    <tr>\n",
       "      <th>7</th>\n",
       "      <td>Engine_Size</td>\n",
       "      <td>float64</td>\n",
       "      <td>0</td>\n",
       "      <td>0.0</td>\n",
       "      <td>71</td>\n",
       "      <td>[5.8, 1.3]</td>\n",
       "    </tr>\n",
       "    <tr>\n",
       "      <th>8</th>\n",
       "      <td>Mileage</td>\n",
       "      <td>int64</td>\n",
       "      <td>0</td>\n",
       "      <td>0.0</td>\n",
       "      <td>1716</td>\n",
       "      <td>[36500, 110761]</td>\n",
       "    </tr>\n",
       "    <tr>\n",
       "      <th>9</th>\n",
       "      <td>Negotiable</td>\n",
       "      <td>bool</td>\n",
       "      <td>0</td>\n",
       "      <td>0.0</td>\n",
       "      <td>2</td>\n",
       "      <td>[True, False]</td>\n",
       "    </tr>\n",
       "    <tr>\n",
       "      <th>10</th>\n",
       "      <td>Price</td>\n",
       "      <td>int64</td>\n",
       "      <td>0</td>\n",
       "      <td>0.0</td>\n",
       "      <td>467</td>\n",
       "      <td>[15000, 23000]</td>\n",
       "    </tr>\n",
       "  </tbody>\n",
       "</table>\n",
       "</div>"
      ],
      "text/plain": [
       "   Nama Variabel Tipe Data  Null  Presentase Null  Jumlah Unique  \\\n",
       "0           Type    object     0              0.0            347   \n",
       "1         Region    object     0              0.0             27   \n",
       "2           Make    object     0              0.0             58   \n",
       "3      Gear_Type    object     0              0.0              2   \n",
       "4         Origin    object     0              0.0              4   \n",
       "5        Options    object     0              0.0              3   \n",
       "6           Year     int64     0              0.0             50   \n",
       "7    Engine_Size   float64     0              0.0             71   \n",
       "8        Mileage     int64     0              0.0           1716   \n",
       "9     Negotiable      bool     0              0.0              2   \n",
       "10         Price     int64     0              0.0            467   \n",
       "\n",
       "                  Unique  \n",
       "0     [Kaptiva, Charger]  \n",
       "1   [Al-Ahsa, Al-Medina]  \n",
       "2         [BMW, Genesis]  \n",
       "3    [Manual, Automatic]  \n",
       "4   [Gulf Arabic, Saudi]  \n",
       "5       [Standard, Full]  \n",
       "6           [1993, 2009]  \n",
       "7             [5.8, 1.3]  \n",
       "8        [36500, 110761]  \n",
       "9          [True, False]  \n",
       "10        [15000, 23000]  "
      ]
     },
     "execution_count": 12,
     "metadata": {},
     "output_type": "execute_result"
    }
   ],
   "source": [
    "# Untuk menampilkan nama variabel, tipe data, null, presentase null, jumlah unique, dan unique setiap kolom\n",
    "\n",
    "data = []\n",
    "for i in df_model.columns:\n",
    "    data.append([\n",
    "        i,\n",
    "        df_model[i].dtypes,\n",
    "        df_model[i].isna().sum(),\n",
    "        round((df_model[i].isna().sum()/len(df))*100,2),\n",
    "        df_model[i].nunique(),\n",
    "        list(df_model[i].drop_duplicates().sample(2).values),\n",
    "        \n",
    "    ])\n",
    "pd.DataFrame(data=data,\n",
    "            columns=[\n",
    "                'Nama Variabel',\n",
    "                'Tipe Data',\n",
    "                'Null',\n",
    "                'Presentase Null',\n",
    "                'Jumlah Unique',\n",
    "                'Unique'\n",
    "            ])"
   ]
  },
  {
   "cell_type": "markdown",
   "id": "d8f46a9b",
   "metadata": {},
   "source": [
    "Dari tabel diatas terlihat bahwa dataset ini tidak memiliki missing value, namun pada kolom Origin terdapat value Unknown sehingga harus diatasi"
   ]
  },
  {
   "cell_type": "markdown",
   "id": "5cf2d9c5",
   "metadata": {},
   "source": [
    "**Drop kolom yang tidak memiliki relevansi**"
   ]
  },
  {
   "cell_type": "markdown",
   "id": "3f7893ac",
   "metadata": {},
   "source": [
    "Setelah menghapus data duplikat dari dataset, selanjutnya kita akan droping kolom yang menurut kita tidak relevan/ tidak diperlukan, sebelum memutuskan untuk droping kolom tentu kita perlu pertimbangan, salah satu cara mempertimbangkannya adalah dengan menggunakan domain knowledge.\n",
    "\n",
    "Berdasarkan domain knowledge, kolom 'Negotiable' tidak diperlukan untuk membangun model prediktif harga mobil bekas karena kolom tersebut hanya menjelaskan bahwa harga mobil tersebut masih bisa dinegosiasi atau tidak, jika bisa di negosiasi maka mobil terbut akan di set dengan harga 0."
   ]
  },
  {
   "cell_type": "code",
   "execution_count": 13,
   "id": "180cfa24",
   "metadata": {
    "scrolled": true
   },
   "outputs": [],
   "source": [
    "# Drop kolom 'Negotiable'\n",
    "df_model.drop(['Negotiable'], axis=1, inplace=True)"
   ]
  },
  {
   "cell_type": "code",
   "execution_count": 14,
   "id": "0f59b9a9",
   "metadata": {},
   "outputs": [
    {
     "name": "stdout",
     "output_type": "stream",
     "text": [
      "<class 'pandas.core.frame.DataFrame'>\n",
      "Int64Index: 5620 entries, 0 to 5623\n",
      "Data columns (total 10 columns):\n",
      " #   Column       Non-Null Count  Dtype  \n",
      "---  ------       --------------  -----  \n",
      " 0   Type         5620 non-null   object \n",
      " 1   Region       5620 non-null   object \n",
      " 2   Make         5620 non-null   object \n",
      " 3   Gear_Type    5620 non-null   object \n",
      " 4   Origin       5620 non-null   object \n",
      " 5   Options      5620 non-null   object \n",
      " 6   Year         5620 non-null   int64  \n",
      " 7   Engine_Size  5620 non-null   float64\n",
      " 8   Mileage      5620 non-null   int64  \n",
      " 9   Price        5620 non-null   int64  \n",
      "dtypes: float64(1), int64(3), object(6)\n",
      "memory usage: 483.0+ KB\n"
     ]
    }
   ],
   "source": [
    "df_model.info()"
   ]
  },
  {
   "cell_type": "markdown",
   "id": "d399d1a1",
   "metadata": {},
   "source": [
    "Kolom 'Negotiable' sudah tidak ada."
   ]
  },
  {
   "cell_type": "code",
   "execution_count": 15,
   "id": "3cda8b5f",
   "metadata": {
    "scrolled": true
   },
   "outputs": [],
   "source": [
    "# replace value 'Unknown' menjadi 'Other' pada kolom Origin \n",
    "\n",
    "df_model['Origin'] = df_model['Origin'].replace('Unknown','Other')"
   ]
  },
  {
   "cell_type": "code",
   "execution_count": 16,
   "id": "f146d520",
   "metadata": {
    "scrolled": true
   },
   "outputs": [
    {
     "data": {
      "text/plain": [
       "Saudi          4184\n",
       "Other           739\n",
       "Gulf Arabic     697\n",
       "Name: Origin, dtype: int64"
      ]
     },
     "execution_count": 16,
     "metadata": {},
     "output_type": "execute_result"
    }
   ],
   "source": [
    "df_model['Origin'].value_counts()"
   ]
  },
  {
   "cell_type": "markdown",
   "id": "d326ea25",
   "metadata": {},
   "source": [
    "Selanjutnya, kita perlu mengecek apakah terdapat nilai-nilai yang dirasa tidak masuk akan pada setiap kolomnya, hal ini dapat kita cek melalui statistik deskriptif untuk setiap kolom numerikal."
   ]
  },
  {
   "cell_type": "code",
   "execution_count": 17,
   "id": "162c1d76",
   "metadata": {},
   "outputs": [
    {
     "data": {
      "text/html": [
       "<div>\n",
       "<style scoped>\n",
       "    .dataframe tbody tr th:only-of-type {\n",
       "        vertical-align: middle;\n",
       "    }\n",
       "\n",
       "    .dataframe tbody tr th {\n",
       "        vertical-align: top;\n",
       "    }\n",
       "\n",
       "    .dataframe thead th {\n",
       "        text-align: right;\n",
       "    }\n",
       "</style>\n",
       "<table border=\"1\" class=\"dataframe\">\n",
       "  <thead>\n",
       "    <tr style=\"text-align: right;\">\n",
       "      <th></th>\n",
       "      <th>Year</th>\n",
       "      <th>Engine_Size</th>\n",
       "      <th>Mileage</th>\n",
       "      <th>Price</th>\n",
       "    </tr>\n",
       "  </thead>\n",
       "  <tbody>\n",
       "    <tr>\n",
       "      <th>count</th>\n",
       "      <td>5624.000000</td>\n",
       "      <td>5624.000000</td>\n",
       "      <td>5.624000e+03</td>\n",
       "      <td>5624.000000</td>\n",
       "    </tr>\n",
       "    <tr>\n",
       "      <th>mean</th>\n",
       "      <td>2014.101885</td>\n",
       "      <td>3.295430</td>\n",
       "      <td>1.509234e+05</td>\n",
       "      <td>53074.058144</td>\n",
       "    </tr>\n",
       "    <tr>\n",
       "      <th>std</th>\n",
       "      <td>5.791606</td>\n",
       "      <td>1.515108</td>\n",
       "      <td>3.828360e+05</td>\n",
       "      <td>70155.340614</td>\n",
       "    </tr>\n",
       "    <tr>\n",
       "      <th>min</th>\n",
       "      <td>1963.000000</td>\n",
       "      <td>1.000000</td>\n",
       "      <td>1.000000e+02</td>\n",
       "      <td>0.000000</td>\n",
       "    </tr>\n",
       "    <tr>\n",
       "      <th>25%</th>\n",
       "      <td>2012.000000</td>\n",
       "      <td>2.000000</td>\n",
       "      <td>3.800000e+04</td>\n",
       "      <td>0.000000</td>\n",
       "    </tr>\n",
       "    <tr>\n",
       "      <th>50%</th>\n",
       "      <td>2016.000000</td>\n",
       "      <td>3.000000</td>\n",
       "      <td>1.030000e+05</td>\n",
       "      <td>36500.000000</td>\n",
       "    </tr>\n",
       "    <tr>\n",
       "      <th>75%</th>\n",
       "      <td>2018.000000</td>\n",
       "      <td>4.500000</td>\n",
       "      <td>1.960000e+05</td>\n",
       "      <td>72932.500000</td>\n",
       "    </tr>\n",
       "    <tr>\n",
       "      <th>max</th>\n",
       "      <td>2022.000000</td>\n",
       "      <td>9.000000</td>\n",
       "      <td>2.000000e+07</td>\n",
       "      <td>850000.000000</td>\n",
       "    </tr>\n",
       "  </tbody>\n",
       "</table>\n",
       "</div>"
      ],
      "text/plain": [
       "              Year  Engine_Size       Mileage          Price\n",
       "count  5624.000000  5624.000000  5.624000e+03    5624.000000\n",
       "mean   2014.101885     3.295430  1.509234e+05   53074.058144\n",
       "std       5.791606     1.515108  3.828360e+05   70155.340614\n",
       "min    1963.000000     1.000000  1.000000e+02       0.000000\n",
       "25%    2012.000000     2.000000  3.800000e+04       0.000000\n",
       "50%    2016.000000     3.000000  1.030000e+05   36500.000000\n",
       "75%    2018.000000     4.500000  1.960000e+05   72932.500000\n",
       "max    2022.000000     9.000000  2.000000e+07  850000.000000"
      ]
     },
     "execution_count": 17,
     "metadata": {},
     "output_type": "execute_result"
    }
   ],
   "source": [
    "# Cek statistik deskriptif untuk kolom numerik\n",
    "df.describe()"
   ]
  },
  {
   "cell_type": "markdown",
   "id": "010a3b91",
   "metadata": {},
   "source": [
    "* Terlihat bahwa pada kolom `Price` 25% datanya adalah data dengan nilai **0** yang mana hal ini tidak masuk akal sebuah mobil memiliki harga 0, artinya sama saja bahwa mobil tersebut akan diberi secara gratis kepada pelanggan. Maka dari itu data kolom 'Price' yang memiliki value 0 lebih baik di drop.\n",
    "* Pada kolom `Mileage` memiliki nilai maksimum 20.000.000, nilai tersebut dirasa mustahil karena nilainya sangat besar, value seperti ini bisa menjadi data anomali. Selanjutnya kita akan tangani anomali pada kolom Miliage"
   ]
  },
  {
   "cell_type": "code",
   "execution_count": 18,
   "id": "7893e7f6",
   "metadata": {},
   "outputs": [],
   "source": [
    "# menghapus baris pada kolom price yang memiliki value '0'\n",
    "df_model = df_model[df_model['Price'] != 0]"
   ]
  },
  {
   "cell_type": "code",
   "execution_count": 19,
   "id": "32aee722",
   "metadata": {
    "scrolled": true
   },
   "outputs": [
    {
     "data": {
      "text/html": [
       "<div>\n",
       "<style scoped>\n",
       "    .dataframe tbody tr th:only-of-type {\n",
       "        vertical-align: middle;\n",
       "    }\n",
       "\n",
       "    .dataframe tbody tr th {\n",
       "        vertical-align: top;\n",
       "    }\n",
       "\n",
       "    .dataframe thead th {\n",
       "        text-align: right;\n",
       "    }\n",
       "</style>\n",
       "<table border=\"1\" class=\"dataframe\">\n",
       "  <thead>\n",
       "    <tr style=\"text-align: right;\">\n",
       "      <th></th>\n",
       "      <th>Type</th>\n",
       "      <th>Region</th>\n",
       "      <th>Make</th>\n",
       "      <th>Gear_Type</th>\n",
       "      <th>Origin</th>\n",
       "      <th>Options</th>\n",
       "      <th>Year</th>\n",
       "      <th>Engine_Size</th>\n",
       "      <th>Mileage</th>\n",
       "      <th>Price</th>\n",
       "    </tr>\n",
       "  </thead>\n",
       "  <tbody>\n",
       "    <tr>\n",
       "      <th>3131</th>\n",
       "      <td>Yukon</td>\n",
       "      <td>Jubail</td>\n",
       "      <td>GMC</td>\n",
       "      <td>Automatic</td>\n",
       "      <td>Saudi</td>\n",
       "      <td>Full</td>\n",
       "      <td>2019</td>\n",
       "      <td>5.3</td>\n",
       "      <td>50000</td>\n",
       "      <td>1</td>\n",
       "    </tr>\n",
       "    <tr>\n",
       "      <th>3992</th>\n",
       "      <td>G80</td>\n",
       "      <td>Riyadh</td>\n",
       "      <td>Genesis</td>\n",
       "      <td>Automatic</td>\n",
       "      <td>Other</td>\n",
       "      <td>Semi Full</td>\n",
       "      <td>2018</td>\n",
       "      <td>3.8</td>\n",
       "      <td>170000</td>\n",
       "      <td>500</td>\n",
       "    </tr>\n",
       "    <tr>\n",
       "      <th>4399</th>\n",
       "      <td>Yaris</td>\n",
       "      <td>Riyadh</td>\n",
       "      <td>Toyota</td>\n",
       "      <td>Automatic</td>\n",
       "      <td>Saudi</td>\n",
       "      <td>Standard</td>\n",
       "      <td>2018</td>\n",
       "      <td>1.5</td>\n",
       "      <td>100000</td>\n",
       "      <td>850</td>\n",
       "    </tr>\n",
       "    <tr>\n",
       "      <th>5128</th>\n",
       "      <td>Rio</td>\n",
       "      <td>Arar</td>\n",
       "      <td>Kia</td>\n",
       "      <td>Automatic</td>\n",
       "      <td>Saudi</td>\n",
       "      <td>Standard</td>\n",
       "      <td>2019</td>\n",
       "      <td>1.4</td>\n",
       "      <td>55500</td>\n",
       "      <td>884</td>\n",
       "    </tr>\n",
       "    <tr>\n",
       "      <th>3474</th>\n",
       "      <td>Yaris</td>\n",
       "      <td>Najran</td>\n",
       "      <td>Toyota</td>\n",
       "      <td>Automatic</td>\n",
       "      <td>Saudi</td>\n",
       "      <td>Standard</td>\n",
       "      <td>2019</td>\n",
       "      <td>1.6</td>\n",
       "      <td>85000</td>\n",
       "      <td>950</td>\n",
       "    </tr>\n",
       "    <tr>\n",
       "      <th>...</th>\n",
       "      <td>...</td>\n",
       "      <td>...</td>\n",
       "      <td>...</td>\n",
       "      <td>...</td>\n",
       "      <td>...</td>\n",
       "      <td>...</td>\n",
       "      <td>...</td>\n",
       "      <td>...</td>\n",
       "      <td>...</td>\n",
       "      <td>...</td>\n",
       "    </tr>\n",
       "    <tr>\n",
       "      <th>4653</th>\n",
       "      <td>Range Rover</td>\n",
       "      <td>Riyadh</td>\n",
       "      <td>Land Rover</td>\n",
       "      <td>Automatic</td>\n",
       "      <td>Other</td>\n",
       "      <td>Full</td>\n",
       "      <td>2019</td>\n",
       "      <td>5.0</td>\n",
       "      <td>4200</td>\n",
       "      <td>599000</td>\n",
       "    </tr>\n",
       "    <tr>\n",
       "      <th>2120</th>\n",
       "      <td>Ghost</td>\n",
       "      <td>Dammam</td>\n",
       "      <td>Rolls-Royce</td>\n",
       "      <td>Automatic</td>\n",
       "      <td>Saudi</td>\n",
       "      <td>Full</td>\n",
       "      <td>2016</td>\n",
       "      <td>6.0</td>\n",
       "      <td>40000</td>\n",
       "      <td>620000</td>\n",
       "    </tr>\n",
       "    <tr>\n",
       "      <th>4273</th>\n",
       "      <td>S</td>\n",
       "      <td>Dammam</td>\n",
       "      <td>Mercedes</td>\n",
       "      <td>Automatic</td>\n",
       "      <td>Gulf Arabic</td>\n",
       "      <td>Full</td>\n",
       "      <td>2021</td>\n",
       "      <td>3.0</td>\n",
       "      <td>2500</td>\n",
       "      <td>748000</td>\n",
       "    </tr>\n",
       "    <tr>\n",
       "      <th>4684</th>\n",
       "      <td>G</td>\n",
       "      <td>Riyadh</td>\n",
       "      <td>Mercedes</td>\n",
       "      <td>Automatic</td>\n",
       "      <td>Other</td>\n",
       "      <td>Full</td>\n",
       "      <td>2019</td>\n",
       "      <td>4.0</td>\n",
       "      <td>39000</td>\n",
       "      <td>800000</td>\n",
       "    </tr>\n",
       "    <tr>\n",
       "      <th>3513</th>\n",
       "      <td>Bentayga</td>\n",
       "      <td>Dammam</td>\n",
       "      <td>Bentley</td>\n",
       "      <td>Automatic</td>\n",
       "      <td>Saudi</td>\n",
       "      <td>Full</td>\n",
       "      <td>2019</td>\n",
       "      <td>6.0</td>\n",
       "      <td>13000</td>\n",
       "      <td>850000</td>\n",
       "    </tr>\n",
       "  </tbody>\n",
       "</table>\n",
       "<p>3824 rows × 10 columns</p>\n",
       "</div>"
      ],
      "text/plain": [
       "             Type  Region         Make  Gear_Type       Origin    Options  \\\n",
       "3131        Yukon  Jubail          GMC  Automatic        Saudi       Full   \n",
       "3992          G80  Riyadh      Genesis  Automatic        Other  Semi Full   \n",
       "4399        Yaris  Riyadh       Toyota  Automatic        Saudi   Standard   \n",
       "5128          Rio    Arar          Kia  Automatic        Saudi   Standard   \n",
       "3474        Yaris  Najran       Toyota  Automatic        Saudi   Standard   \n",
       "...           ...     ...          ...        ...          ...        ...   \n",
       "4653  Range Rover  Riyadh   Land Rover  Automatic        Other       Full   \n",
       "2120        Ghost  Dammam  Rolls-Royce  Automatic        Saudi       Full   \n",
       "4273            S  Dammam     Mercedes  Automatic  Gulf Arabic       Full   \n",
       "4684            G  Riyadh     Mercedes  Automatic        Other       Full   \n",
       "3513     Bentayga  Dammam      Bentley  Automatic        Saudi       Full   \n",
       "\n",
       "      Year  Engine_Size  Mileage   Price  \n",
       "3131  2019          5.3    50000       1  \n",
       "3992  2018          3.8   170000     500  \n",
       "4399  2018          1.5   100000     850  \n",
       "5128  2019          1.4    55500     884  \n",
       "3474  2019          1.6    85000     950  \n",
       "...    ...          ...      ...     ...  \n",
       "4653  2019          5.0     4200  599000  \n",
       "2120  2016          6.0    40000  620000  \n",
       "4273  2021          3.0     2500  748000  \n",
       "4684  2019          4.0    39000  800000  \n",
       "3513  2019          6.0    13000  850000  \n",
       "\n",
       "[3824 rows x 10 columns]"
      ]
     },
     "execution_count": 19,
     "metadata": {},
     "output_type": "execute_result"
    }
   ],
   "source": [
    "df_model.sort_values(by='Price', ascending=True)"
   ]
  },
  {
   "cell_type": "markdown",
   "id": "83f64307",
   "metadata": {},
   "source": [
    "Berdasarkan hasil diatas terlihat bahwa sudah tidak terdapat mobil dengan harga 0, namun tenyata pada kolom harga terdapat value 1, 500, 850. Hal ini tidak masuk akal sebuah mobil memiliki harga yang sangat rendah, oleh karena itu kita akan menangani data anomali pada kolom price ini."
   ]
  },
  {
   "cell_type": "markdown",
   "id": "70c1552f",
   "metadata": {},
   "source": [
    "**Korelasi Data**"
   ]
  },
  {
   "cell_type": "code",
   "execution_count": 20,
   "id": "73702709",
   "metadata": {},
   "outputs": [
    {
     "data": {
      "text/html": [
       "<div>\n",
       "<style scoped>\n",
       "    .dataframe tbody tr th:only-of-type {\n",
       "        vertical-align: middle;\n",
       "    }\n",
       "\n",
       "    .dataframe tbody tr th {\n",
       "        vertical-align: top;\n",
       "    }\n",
       "\n",
       "    .dataframe thead th {\n",
       "        text-align: right;\n",
       "    }\n",
       "</style>\n",
       "<table border=\"1\" class=\"dataframe\">\n",
       "  <thead>\n",
       "    <tr style=\"text-align: right;\">\n",
       "      <th></th>\n",
       "      <th>Year</th>\n",
       "      <th>Engine_Size</th>\n",
       "      <th>Mileage</th>\n",
       "      <th>Price</th>\n",
       "    </tr>\n",
       "  </thead>\n",
       "  <tbody>\n",
       "    <tr>\n",
       "      <th>Year</th>\n",
       "      <td>1.000000</td>\n",
       "      <td>-0.301332</td>\n",
       "      <td>-0.495930</td>\n",
       "      <td>0.419862</td>\n",
       "    </tr>\n",
       "    <tr>\n",
       "      <th>Engine_Size</th>\n",
       "      <td>-0.301332</td>\n",
       "      <td>1.000000</td>\n",
       "      <td>0.158042</td>\n",
       "      <td>0.377817</td>\n",
       "    </tr>\n",
       "    <tr>\n",
       "      <th>Mileage</th>\n",
       "      <td>-0.495930</td>\n",
       "      <td>0.158042</td>\n",
       "      <td>1.000000</td>\n",
       "      <td>-0.277270</td>\n",
       "    </tr>\n",
       "    <tr>\n",
       "      <th>Price</th>\n",
       "      <td>0.419862</td>\n",
       "      <td>0.377817</td>\n",
       "      <td>-0.277270</td>\n",
       "      <td>1.000000</td>\n",
       "    </tr>\n",
       "  </tbody>\n",
       "</table>\n",
       "</div>"
      ],
      "text/plain": [
       "                 Year  Engine_Size   Mileage     Price\n",
       "Year         1.000000    -0.301332 -0.495930  0.419862\n",
       "Engine_Size -0.301332     1.000000  0.158042  0.377817\n",
       "Mileage     -0.495930     0.158042  1.000000 -0.277270\n",
       "Price        0.419862     0.377817 -0.277270  1.000000"
      ]
     },
     "execution_count": 20,
     "metadata": {},
     "output_type": "execute_result"
    }
   ],
   "source": [
    "corr_mat = df_model.corr(method='spearman')\n",
    "corr_mat"
   ]
  },
  {
   "cell_type": "code",
   "execution_count": 21,
   "id": "e4509788",
   "metadata": {
    "scrolled": false
   },
   "outputs": [
    {
     "data": {
      "image/png": "[encoded data removed]",
      "text/plain": [
       "<Figure size 576x432 with 2 Axes>"
      ]
     },
     "metadata": {
      "needs_background": "light"
     },
     "output_type": "display_data"
    }
   ],
   "source": [
    "plt.figure(figsize=(8,6))\n",
    "palette = sns.diverging_palette(5,10, n=200)\n",
    "sns.heatmap(corr_mat, annot=True, vmax=1, vmin=-1, fmt='.2f', cmap=palette) # annot untuk munculin angka\n",
    "plt.title('Correlation Matrix', size=12, weight='bold')\n",
    "plt.show()"
   ]
  },
  {
   "cell_type": "markdown",
   "id": "20216c0a",
   "metadata": {},
   "source": [
    "Correlation matrix menunjukkan bahwa tidak ada fitur yang memiliki korelasi yang kuat terhadap fitur price. Korelasi yang paling tinggi dimiliki oleh fitur 'Year' dan 'Engine_size' dengan fitur 'Price', dimana korelasinya adalah korelasi positif. Artinya semakin muda tahun keluaran mobil maka semakin tinggi harga mobil, juga semakin besar engine size maka semakin tinggi harga mobil.\n",
    "\n",
    "Selanjutnya, kita akan mengecek distribusi data dan outliers untuk setiap fitur numerikal. Jika distirbusinya memiliki skewness yang tinggi, salah satu cara yang dapat dilakukan untuk mengurangi skewnessnya adalah dengan melakukan rekayasa pada setiap fiturnya."
   ]
  },
  {
   "cell_type": "markdown",
   "id": "b6a686b7",
   "metadata": {},
   "source": [
    "**Outliers Detection**"
   ]
  },
  {
   "cell_type": "markdown",
   "id": "a5465073",
   "metadata": {},
   "source": [
    "Banyaknya outliers pada data tentu akan memengaruhi hasil analisis dan pemodelan yang dilakukan. Ada beberapa hal yang harus dipertimbangkan sebelum memutuskan treatment yang sesuai dengan data, diantaranya adalah dengan mempertimbangkan sisi domain knowledge."
   ]
  },
  {
   "cell_type": "code",
   "execution_count": 22,
   "id": "70e04566",
   "metadata": {},
   "outputs": [
    {
     "data": {
      "image/png": "[encoded data removed]",
      "text/plain": [
       "<Figure size 1152x360 with 4 Axes>"
      ]
     },
     "metadata": {
      "needs_background": "light"
     },
     "output_type": "display_data"
    }
   ],
   "source": [
    "fig, axs =  plt.subplots(1, 4, figsize=(16, 5))\n",
    "fig.tight_layout()\n",
    "num = [\"Price\", \"Mileage\", \"Engine_Size\", \"Year\"]\n",
    "pos = 0\n",
    "for i in df_model[num].columns:\n",
    "    sns.boxplot(y=df_model[i], ax = axs[pos])\n",
    "    axs[pos].set_title(i)\n",
    "    pos += 1"
   ]
  },
  {
   "cell_type": "markdown",
   "id": "7128e0f3",
   "metadata": {},
   "source": [
    "Terlihat pada gambar diatas bahwa terdapat banyak outliers pada fitur numerikal. Dalam project ini, untuk membuat dataset yang lebih bersih dari outliers akan dilakukan beberapa rekayasa data pada fitur-fitur dengan mempertimbangkan kombinasi antara hasil dari metode IQR dan juga domain knowledge. Model yang dihasilkan hanya terbatas dapat memprediksi harga mobil bekas yang nilai-nilainya pada rentang data berdasarkan 'clean dataset', diluar rentang data hasil prediksi dari model akan menjadi bias."
   ]
  },
  {
   "cell_type": "code",
   "execution_count": 23,
   "id": "d78a806f",
   "metadata": {},
   "outputs": [],
   "source": [
    "# Def cari outliers\n",
    "def cari_outliers(data):\n",
    "    q1 = data.describe()['25%']\n",
    "    q3 = data.describe()['75%']\n",
    "    iqr = q3 - q1\n",
    "    upper_fence = q3 + (1.5*iqr)\n",
    "    lower_fence = q1 - (1.5*iqr)\n",
    "    print(f'limit bawah: {lower_fence}')\n",
    "    print(f'limit atas: {upper_fence}')"
   ]
  },
  {
   "cell_type": "code",
   "execution_count": 24,
   "id": "92c87ab5",
   "metadata": {
    "scrolled": true
   },
   "outputs": [
    {
     "name": "stdout",
     "output_type": "stream",
     "text": [
      "limit bawah: -53875.0\n",
      "limit atas: 183125.0\n"
     ]
    }
   ],
   "source": [
    "# outliers pada kolom price\n",
    "cari_outliers(df_model['Price'])"
   ]
  },
  {
   "cell_type": "code",
   "execution_count": 25,
   "id": "77b2dea0",
   "metadata": {
    "scrolled": true
   },
   "outputs": [
    {
     "name": "stdout",
     "output_type": "stream",
     "text": [
      "limit bawah: -1.0\n",
      "limit atas: 7.0\n"
     ]
    }
   ],
   "source": [
    "# outliers pada kolom Engine_Size\n",
    "cari_outliers(df_model['Engine_Size'])"
   ]
  },
  {
   "cell_type": "code",
   "execution_count": 26,
   "id": "05b8c118",
   "metadata": {
    "scrolled": true
   },
   "outputs": [
    {
     "name": "stdout",
     "output_type": "stream",
     "text": [
      "limit bawah: -154500.0\n",
      "limit atas: 385500.0\n"
     ]
    }
   ],
   "source": [
    "# outliers pada kolom Mileage\n",
    "cari_outliers(df_model['Mileage'])"
   ]
  },
  {
   "cell_type": "code",
   "execution_count": 27,
   "id": "4bd8d857",
   "metadata": {
    "scrolled": true
   },
   "outputs": [
    {
     "name": "stdout",
     "output_type": "stream",
     "text": [
      "limit bawah: 2005.5\n",
      "limit atas: 2025.5\n"
     ]
    }
   ],
   "source": [
    "# Outliers pada kolom Year\n",
    "cari_outliers(df_model['Year'])"
   ]
  },
  {
   "cell_type": "markdown",
   "id": "449f643d",
   "metadata": {},
   "source": [
    "Selanjutnya, kita dapat memulai feature engineering terhadap fitur-fitur numerikal."
   ]
  },
  {
   "cell_type": "markdown",
   "id": "0e4264ab",
   "metadata": {},
   "source": [
    "**Price**"
   ]
  },
  {
   "cell_type": "code",
   "execution_count": 28,
   "id": "86ed5d46",
   "metadata": {
    "scrolled": true
   },
   "outputs": [
    {
     "data": {
      "text/plain": [
       "count      3824.000000\n",
       "mean      78019.245031\n",
       "std       72748.182183\n",
       "min           1.000000\n",
       "25%       35000.000000\n",
       "50%       58000.000000\n",
       "75%       94250.000000\n",
       "max      850000.000000\n",
       "Name: Price, dtype: float64"
      ]
     },
     "execution_count": 28,
     "metadata": {},
     "output_type": "execute_result"
    }
   ],
   "source": [
    "df_model['Price'].describe()"
   ]
  },
  {
   "cell_type": "code",
   "execution_count": 29,
   "id": "5c960988",
   "metadata": {},
   "outputs": [
    {
     "data": {
      "text/plain": [
       "259"
      ]
     },
     "execution_count": 29,
     "metadata": {},
     "output_type": "execute_result"
    }
   ],
   "source": [
    "df_model[df_model['Price'] > 183125].count()['Price']"
   ]
  },
  {
   "cell_type": "markdown",
   "id": "cdb313ac",
   "metadata": {},
   "source": [
    "terlihat bahwa 75% data pada kolom price bernilai kurang dari 94250, sedangkan nilai maksimmumnya adalah 850000 hal ini mengakibatkan adanya skewness pada distribusi price (positif skewed). \n",
    "\n",
    "Terdapat 259 data yang nilai pricenya > 183125 (batas atas data berdasarkan IQRnya), oleh karenanya harga mobil yang lebih besar dari 183125 tidak akan dimasukkan dalam model, sehingga skewness pada distribusi price akan berkurang, namun model yang nantinya dibangun akan memiliki batasan."
   ]
  },
  {
   "cell_type": "markdown",
   "id": "5069803e",
   "metadata": {},
   "source": [
    "Pada [sumber](https://ksa.yallamotor.com/used-cars/toyota/camry/2017/used-toyota-camry-2017-riyadh-1307714) yang saya baca mengatakan bahwa tidak masuk akal menjual mobil bekas dibawah 1000 SAR dan pada sumber menuliskan bahwa harga mobil bekas yang paling rendah adalah 5000 SAR. Oleh karena itu, harga mobil < 5000 akan kita drop."
   ]
  },
  {
   "cell_type": "code",
   "execution_count": 30,
   "id": "736f58d4",
   "metadata": {
    "scrolled": true
   },
   "outputs": [],
   "source": [
    "# Melakukan filtering pada data dengan drop price < 5000\n",
    "\n",
    "df_model = df_model[(df_model['Price'] >= 5000)]"
   ]
  },
  {
   "cell_type": "code",
   "execution_count": 31,
   "id": "774a5d40",
   "metadata": {
    "scrolled": false
   },
   "outputs": [
    {
     "data": {
      "text/html": [
       "<div>\n",
       "<style scoped>\n",
       "    .dataframe tbody tr th:only-of-type {\n",
       "        vertical-align: middle;\n",
       "    }\n",
       "\n",
       "    .dataframe tbody tr th {\n",
       "        vertical-align: top;\n",
       "    }\n",
       "\n",
       "    .dataframe thead th {\n",
       "        text-align: right;\n",
       "    }\n",
       "</style>\n",
       "<table border=\"1\" class=\"dataframe\">\n",
       "  <thead>\n",
       "    <tr style=\"text-align: right;\">\n",
       "      <th></th>\n",
       "      <th>Type</th>\n",
       "      <th>Region</th>\n",
       "      <th>Make</th>\n",
       "      <th>Gear_Type</th>\n",
       "      <th>Origin</th>\n",
       "      <th>Options</th>\n",
       "      <th>Year</th>\n",
       "      <th>Engine_Size</th>\n",
       "      <th>Mileage</th>\n",
       "      <th>Price</th>\n",
       "    </tr>\n",
       "  </thead>\n",
       "  <tbody>\n",
       "    <tr>\n",
       "      <th>3513</th>\n",
       "      <td>Bentayga</td>\n",
       "      <td>Dammam</td>\n",
       "      <td>Bentley</td>\n",
       "      <td>Automatic</td>\n",
       "      <td>Saudi</td>\n",
       "      <td>Full</td>\n",
       "      <td>2019</td>\n",
       "      <td>6.0</td>\n",
       "      <td>13000</td>\n",
       "      <td>850000</td>\n",
       "    </tr>\n",
       "    <tr>\n",
       "      <th>4684</th>\n",
       "      <td>G</td>\n",
       "      <td>Riyadh</td>\n",
       "      <td>Mercedes</td>\n",
       "      <td>Automatic</td>\n",
       "      <td>Other</td>\n",
       "      <td>Full</td>\n",
       "      <td>2019</td>\n",
       "      <td>4.0</td>\n",
       "      <td>39000</td>\n",
       "      <td>800000</td>\n",
       "    </tr>\n",
       "    <tr>\n",
       "      <th>4273</th>\n",
       "      <td>S</td>\n",
       "      <td>Dammam</td>\n",
       "      <td>Mercedes</td>\n",
       "      <td>Automatic</td>\n",
       "      <td>Gulf Arabic</td>\n",
       "      <td>Full</td>\n",
       "      <td>2021</td>\n",
       "      <td>3.0</td>\n",
       "      <td>2500</td>\n",
       "      <td>748000</td>\n",
       "    </tr>\n",
       "    <tr>\n",
       "      <th>2120</th>\n",
       "      <td>Ghost</td>\n",
       "      <td>Dammam</td>\n",
       "      <td>Rolls-Royce</td>\n",
       "      <td>Automatic</td>\n",
       "      <td>Saudi</td>\n",
       "      <td>Full</td>\n",
       "      <td>2016</td>\n",
       "      <td>6.0</td>\n",
       "      <td>40000</td>\n",
       "      <td>620000</td>\n",
       "    </tr>\n",
       "    <tr>\n",
       "      <th>4653</th>\n",
       "      <td>Range Rover</td>\n",
       "      <td>Riyadh</td>\n",
       "      <td>Land Rover</td>\n",
       "      <td>Automatic</td>\n",
       "      <td>Other</td>\n",
       "      <td>Full</td>\n",
       "      <td>2019</td>\n",
       "      <td>5.0</td>\n",
       "      <td>4200</td>\n",
       "      <td>599000</td>\n",
       "    </tr>\n",
       "    <tr>\n",
       "      <th>...</th>\n",
       "      <td>...</td>\n",
       "      <td>...</td>\n",
       "      <td>...</td>\n",
       "      <td>...</td>\n",
       "      <td>...</td>\n",
       "      <td>...</td>\n",
       "      <td>...</td>\n",
       "      <td>...</td>\n",
       "      <td>...</td>\n",
       "      <td>...</td>\n",
       "    </tr>\n",
       "    <tr>\n",
       "      <th>110</th>\n",
       "      <td>Optra</td>\n",
       "      <td>Riyadh</td>\n",
       "      <td>Chevrolet</td>\n",
       "      <td>Automatic</td>\n",
       "      <td>Saudi</td>\n",
       "      <td>Standard</td>\n",
       "      <td>2007</td>\n",
       "      <td>1.6</td>\n",
       "      <td>2000000</td>\n",
       "      <td>5000</td>\n",
       "    </tr>\n",
       "    <tr>\n",
       "      <th>2612</th>\n",
       "      <td>Suburban</td>\n",
       "      <td>Aseer</td>\n",
       "      <td>GMC</td>\n",
       "      <td>Automatic</td>\n",
       "      <td>Saudi</td>\n",
       "      <td>Semi Full</td>\n",
       "      <td>1990</td>\n",
       "      <td>3.5</td>\n",
       "      <td>140000</td>\n",
       "      <td>5000</td>\n",
       "    </tr>\n",
       "    <tr>\n",
       "      <th>3052</th>\n",
       "      <td>Expedition</td>\n",
       "      <td>Al-Medina</td>\n",
       "      <td>Ford</td>\n",
       "      <td>Automatic</td>\n",
       "      <td>Saudi</td>\n",
       "      <td>Semi Full</td>\n",
       "      <td>2003</td>\n",
       "      <td>5.4</td>\n",
       "      <td>400000</td>\n",
       "      <td>5000</td>\n",
       "    </tr>\n",
       "    <tr>\n",
       "      <th>693</th>\n",
       "      <td>Accent</td>\n",
       "      <td>Dammam</td>\n",
       "      <td>Hyundai</td>\n",
       "      <td>Manual</td>\n",
       "      <td>Saudi</td>\n",
       "      <td>Standard</td>\n",
       "      <td>2005</td>\n",
       "      <td>1.5</td>\n",
       "      <td>294602</td>\n",
       "      <td>5000</td>\n",
       "    </tr>\n",
       "    <tr>\n",
       "      <th>3482</th>\n",
       "      <td>Caprice</td>\n",
       "      <td>Riyadh</td>\n",
       "      <td>Chevrolet</td>\n",
       "      <td>Automatic</td>\n",
       "      <td>Saudi</td>\n",
       "      <td>Standard</td>\n",
       "      <td>2006</td>\n",
       "      <td>3.6</td>\n",
       "      <td>380000</td>\n",
       "      <td>5000</td>\n",
       "    </tr>\n",
       "  </tbody>\n",
       "</table>\n",
       "<p>3756 rows × 10 columns</p>\n",
       "</div>"
      ],
      "text/plain": [
       "             Type     Region         Make  Gear_Type       Origin    Options  \\\n",
       "3513     Bentayga     Dammam      Bentley  Automatic        Saudi       Full   \n",
       "4684            G     Riyadh     Mercedes  Automatic        Other       Full   \n",
       "4273            S     Dammam     Mercedes  Automatic  Gulf Arabic       Full   \n",
       "2120        Ghost     Dammam  Rolls-Royce  Automatic        Saudi       Full   \n",
       "4653  Range Rover     Riyadh   Land Rover  Automatic        Other       Full   \n",
       "...           ...        ...          ...        ...          ...        ...   \n",
       "110         Optra     Riyadh    Chevrolet  Automatic        Saudi   Standard   \n",
       "2612     Suburban      Aseer          GMC  Automatic        Saudi  Semi Full   \n",
       "3052   Expedition  Al-Medina         Ford  Automatic        Saudi  Semi Full   \n",
       "693        Accent     Dammam      Hyundai     Manual        Saudi   Standard   \n",
       "3482      Caprice     Riyadh    Chevrolet  Automatic        Saudi   Standard   \n",
       "\n",
       "      Year  Engine_Size  Mileage   Price  \n",
       "3513  2019          6.0    13000  850000  \n",
       "4684  2019          4.0    39000  800000  \n",
       "4273  2021          3.0     2500  748000  \n",
       "2120  2016          6.0    40000  620000  \n",
       "4653  2019          5.0     4200  599000  \n",
       "...    ...          ...      ...     ...  \n",
       "110   2007          1.6  2000000    5000  \n",
       "2612  1990          3.5   140000    5000  \n",
       "3052  2003          5.4   400000    5000  \n",
       "693   2005          1.5   294602    5000  \n",
       "3482  2006          3.6   380000    5000  \n",
       "\n",
       "[3756 rows x 10 columns]"
      ]
     },
     "execution_count": 31,
     "metadata": {},
     "output_type": "execute_result"
    }
   ],
   "source": [
    "df_model.sort_values('Price', ascending=False)"
   ]
  },
  {
   "cell_type": "code",
   "execution_count": 32,
   "id": "e5d51167",
   "metadata": {
    "scrolled": true
   },
   "outputs": [],
   "source": [
    "df_model = df_model[df_model['Price'] <= 183125]"
   ]
  },
  {
   "cell_type": "code",
   "execution_count": 33,
   "id": "ad7a6d77",
   "metadata": {
    "scrolled": true
   },
   "outputs": [
    {
     "data": {
      "image/png": "[encoded data removed]",
      "text/plain": [
       "<Figure size 1440x432 with 2 Axes>"
      ]
     },
     "metadata": {
      "needs_background": "light"
     },
     "output_type": "display_data"
    }
   ],
   "source": [
    "# plot distribusi data sebelum dan sesudah filtering\n",
    "fig, axes = plt.subplots(1,2, figsize=(20, 6))\n",
    "sns.distplot(df['Price'], ax=axes[0])\n",
    "sns.distplot(df_model['Price'], ax=axes[1])\n",
    "axes[0].set_xlabel('Price')\n",
    "axes[1].set_xlabel('Range Selected Price');"
   ]
  },
  {
   "cell_type": "markdown",
   "id": "70088241",
   "metadata": {},
   "source": [
    "**Mileage**"
   ]
  },
  {
   "cell_type": "markdown",
   "id": "4ae15810",
   "metadata": {
    "scrolled": true
   },
   "source": [
    "Berdasarkan [Sumber](https://www.sciencedirect.com/science/article/pii/S0140988320303662) yang saya baca menyatakan bahwa di Arab Saudi rata-rata mileage untuk mobil bekas adalah 16000 per tahun, sehingga diasumsikan bahwa nilai maksimum mileage yang masuk akal adalah usia mobil tertua pada dataset dikali 16000"
   ]
  },
  {
   "cell_type": "code",
   "execution_count": 34,
   "id": "f74694ff",
   "metadata": {
    "scrolled": true
   },
   "outputs": [
    {
     "data": {
      "text/html": [
       "<div>\n",
       "<style scoped>\n",
       "    .dataframe tbody tr th:only-of-type {\n",
       "        vertical-align: middle;\n",
       "    }\n",
       "\n",
       "    .dataframe tbody tr th {\n",
       "        vertical-align: top;\n",
       "    }\n",
       "\n",
       "    .dataframe thead th {\n",
       "        text-align: right;\n",
       "    }\n",
       "</style>\n",
       "<table border=\"1\" class=\"dataframe\">\n",
       "  <thead>\n",
       "    <tr style=\"text-align: right;\">\n",
       "      <th></th>\n",
       "      <th>Type</th>\n",
       "      <th>Region</th>\n",
       "      <th>Make</th>\n",
       "      <th>Gear_Type</th>\n",
       "      <th>Origin</th>\n",
       "      <th>Options</th>\n",
       "      <th>Year</th>\n",
       "      <th>Engine_Size</th>\n",
       "      <th>Mileage</th>\n",
       "      <th>Price</th>\n",
       "    </tr>\n",
       "  </thead>\n",
       "  <tbody>\n",
       "    <tr>\n",
       "      <th>5012</th>\n",
       "      <td>Other</td>\n",
       "      <td>Riyadh</td>\n",
       "      <td>Ford</td>\n",
       "      <td>Manual</td>\n",
       "      <td>Saudi</td>\n",
       "      <td>Standard</td>\n",
       "      <td>1963</td>\n",
       "      <td>1.0</td>\n",
       "      <td>300</td>\n",
       "      <td>22000</td>\n",
       "    </tr>\n",
       "  </tbody>\n",
       "</table>\n",
       "</div>"
      ],
      "text/plain": [
       "       Type  Region  Make Gear_Type Origin   Options  Year  Engine_Size  \\\n",
       "5012  Other  Riyadh  Ford    Manual  Saudi  Standard  1963          1.0   \n",
       "\n",
       "      Mileage  Price  \n",
       "5012      300  22000  "
      ]
     },
     "execution_count": 34,
     "metadata": {},
     "output_type": "execute_result"
    }
   ],
   "source": [
    "df_model.sort_values(by='Year',ascending=True).head(1)"
   ]
  },
  {
   "cell_type": "markdown",
   "id": "c505330a",
   "metadata": {},
   "source": [
    "Nilai maksimum mileage pada dataset ini seharusnya adalah 59 x 16000 = 944000. Mileage lebih dari 944000 akan kita drop"
   ]
  },
  {
   "cell_type": "code",
   "execution_count": 35,
   "id": "9c6f34c8",
   "metadata": {
    "scrolled": true
   },
   "outputs": [
    {
     "data": {
      "text/plain": [
       "Type           16\n",
       "Region         16\n",
       "Make           16\n",
       "Gear_Type      16\n",
       "Origin         16\n",
       "Options        16\n",
       "Year           16\n",
       "Engine_Size    16\n",
       "Mileage        16\n",
       "Price          16\n",
       "dtype: int64"
      ]
     },
     "execution_count": 35,
     "metadata": {},
     "output_type": "execute_result"
    }
   ],
   "source": [
    "df_model[df_model['Mileage'] > 944000].count()"
   ]
  },
  {
   "cell_type": "code",
   "execution_count": 36,
   "id": "5743ff29",
   "metadata": {},
   "outputs": [],
   "source": [
    "df_model = df_model[df_model['Mileage'] <= 944000]"
   ]
  },
  {
   "cell_type": "code",
   "execution_count": 37,
   "id": "3c700708",
   "metadata": {
    "scrolled": true
   },
   "outputs": [
    {
     "data": {
      "image/png": "[encoded data removed]",
      "text/plain": [
       "<Figure size 1440x432 with 2 Axes>"
      ]
     },
     "metadata": {
      "needs_background": "light"
     },
     "output_type": "display_data"
    }
   ],
   "source": [
    "# plot distribusi data sebelum dan sesudah filtering\n",
    "fig, axes = plt.subplots(1,2, figsize=(20, 6))\n",
    "sns.distplot(df['Mileage'], ax=axes[0])\n",
    "sns.distplot(df_model['Mileage'], ax=axes[1])\n",
    "axes[0].set_xlabel('Mileage')\n",
    "axes[1].set_xlabel('Range Selected Mileage');"
   ]
  },
  {
   "cell_type": "markdown",
   "id": "74ee0fab",
   "metadata": {},
   "source": [
    "Terlihat pada gambar sebelah kanan adalah gambar distribusi Mileage yang sudah di filter, pada tahap selanjutnya fitur Mileage ini akan dilakukan binning equal frequency karena  masih memiliki outlier."
   ]
  },
  {
   "cell_type": "markdown",
   "id": "51870a09",
   "metadata": {},
   "source": [
    "**Year**"
   ]
  },
  {
   "cell_type": "code",
   "execution_count": 38,
   "id": "361500b0",
   "metadata": {
    "scrolled": true
   },
   "outputs": [
    {
     "data": {
      "text/plain": [
       "341"
      ]
     },
     "execution_count": 38,
     "metadata": {},
     "output_type": "execute_result"
    }
   ],
   "source": [
    "df[df['Year'] < 2005].count()['Year']"
   ]
  },
  {
   "cell_type": "markdown",
   "id": "b1264be4",
   "metadata": {},
   "source": [
    "Berdasarkan IQR, terdapat 341 data yang nilai year < 2005, oleh karenanya mobil yang dibuat sebelum tahun 2005 tidak akan dimasukkan dalam model, hal ini akan mengurangi skewness pada fitu year namun akan membuat model yang akan dibangun memiliki batasan atau limitasi."
   ]
  },
  {
   "cell_type": "code",
   "execution_count": 39,
   "id": "c9df1415",
   "metadata": {
    "scrolled": false
   },
   "outputs": [],
   "source": [
    "# Drop value < 2005 pada kolom 'Year'\n",
    "df_model = df_model[df_model['Year'] >= 2005]"
   ]
  },
  {
   "cell_type": "code",
   "execution_count": 40,
   "id": "e3bf78a3",
   "metadata": {
    "scrolled": true
   },
   "outputs": [
    {
     "data": {
      "image/png": "[encoded data removed]",
      "text/plain": [
       "<Figure size 1440x432 with 2 Axes>"
      ]
     },
     "metadata": {
      "needs_background": "light"
     },
     "output_type": "display_data"
    }
   ],
   "source": [
    "# plot distribusi data sebelum dan sesudah filtering\n",
    "fig, axes = plt.subplots(1,2, figsize=(20, 6))\n",
    "sns.distplot(df['Year'], ax=axes[0])\n",
    "sns.distplot(df_model['Year'], ax=axes[1])# menggambar distribusi data setelah filtering\n",
    "axes[0].set_xlabel('Mileage')\n",
    "axes[1].set_xlabel('Range Selected Mileage');"
   ]
  },
  {
   "cell_type": "code",
   "execution_count": 41,
   "id": "310fc5d4",
   "metadata": {
    "scrolled": true
   },
   "outputs": [
    {
     "name": "stdout",
     "output_type": "stream",
     "text": [
      "<class 'pandas.core.frame.DataFrame'>\n",
      "Int64Index: 3337 entries, 1 to 5622\n",
      "Data columns (total 10 columns):\n",
      " #   Column       Non-Null Count  Dtype  \n",
      "---  ------       --------------  -----  \n",
      " 0   Type         3337 non-null   object \n",
      " 1   Region       3337 non-null   object \n",
      " 2   Make         3337 non-null   object \n",
      " 3   Gear_Type    3337 non-null   object \n",
      " 4   Origin       3337 non-null   object \n",
      " 5   Options      3337 non-null   object \n",
      " 6   Year         3337 non-null   int64  \n",
      " 7   Engine_Size  3337 non-null   float64\n",
      " 8   Mileage      3337 non-null   int64  \n",
      " 9   Price        3337 non-null   int64  \n",
      "dtypes: float64(1), int64(3), object(6)\n",
      "memory usage: 286.8+ KB\n"
     ]
    }
   ],
   "source": [
    "# Dataset yang sudah clean\n",
    "df_model.info()"
   ]
  },
  {
   "cell_type": "code",
   "execution_count": 42,
   "id": "7975fa6d",
   "metadata": {
    "scrolled": true
   },
   "outputs": [
    {
     "data": {
      "text/html": [
       "<div>\n",
       "<style scoped>\n",
       "    .dataframe tbody tr th:only-of-type {\n",
       "        vertical-align: middle;\n",
       "    }\n",
       "\n",
       "    .dataframe tbody tr th {\n",
       "        vertical-align: top;\n",
       "    }\n",
       "\n",
       "    .dataframe thead th {\n",
       "        text-align: right;\n",
       "    }\n",
       "</style>\n",
       "<table border=\"1\" class=\"dataframe\">\n",
       "  <thead>\n",
       "    <tr style=\"text-align: right;\">\n",
       "      <th></th>\n",
       "      <th>Year</th>\n",
       "      <th>Engine_Size</th>\n",
       "      <th>Mileage</th>\n",
       "      <th>Price</th>\n",
       "    </tr>\n",
       "  </thead>\n",
       "  <tbody>\n",
       "    <tr>\n",
       "      <th>Year</th>\n",
       "      <td>1.000000</td>\n",
       "      <td>-0.368107</td>\n",
       "      <td>-0.495750</td>\n",
       "      <td>0.378405</td>\n",
       "    </tr>\n",
       "    <tr>\n",
       "      <th>Engine_Size</th>\n",
       "      <td>-0.368107</td>\n",
       "      <td>1.000000</td>\n",
       "      <td>0.206104</td>\n",
       "      <td>0.404085</td>\n",
       "    </tr>\n",
       "    <tr>\n",
       "      <th>Mileage</th>\n",
       "      <td>-0.495750</td>\n",
       "      <td>0.206104</td>\n",
       "      <td>1.000000</td>\n",
       "      <td>-0.251882</td>\n",
       "    </tr>\n",
       "    <tr>\n",
       "      <th>Price</th>\n",
       "      <td>0.378405</td>\n",
       "      <td>0.404085</td>\n",
       "      <td>-0.251882</td>\n",
       "      <td>1.000000</td>\n",
       "    </tr>\n",
       "  </tbody>\n",
       "</table>\n",
       "</div>"
      ],
      "text/plain": [
       "                 Year  Engine_Size   Mileage     Price\n",
       "Year         1.000000    -0.368107 -0.495750  0.378405\n",
       "Engine_Size -0.368107     1.000000  0.206104  0.404085\n",
       "Mileage     -0.495750     0.206104  1.000000 -0.251882\n",
       "Price        0.378405     0.404085 -0.251882  1.000000"
      ]
     },
     "execution_count": 42,
     "metadata": {},
     "output_type": "execute_result"
    }
   ],
   "source": [
    "corr_mat = df_model.corr(method='spearman')\n",
    "corr_mat"
   ]
  },
  {
   "cell_type": "code",
   "execution_count": 43,
   "id": "a6203e3a",
   "metadata": {},
   "outputs": [
    {
     "data": {
      "image/png": "[encoded data removed]",
      "text/plain": [
       "<Figure size 576x432 with 2 Axes>"
      ]
     },
     "metadata": {
      "needs_background": "light"
     },
     "output_type": "display_data"
    }
   ],
   "source": [
    "plt.figure(figsize=(8,6))\n",
    "palette = sns.diverging_palette(5,10, n=200)\n",
    "sns.heatmap(corr_mat, annot=True, vmax=1, vmin=-1, fmt='.2f', cmap=palette) # annot untuk munculin angka\n",
    "plt.title('Correlation Matrix', size=12, weight='bold')\n",
    "plt.show()"
   ]
  },
  {
   "cell_type": "markdown",
   "id": "8ffd3bcc",
   "metadata": {},
   "source": [
    "# Modeling"
   ]
  },
  {
   "cell_type": "code",
   "execution_count": 44,
   "id": "88e7a3b6",
   "metadata": {},
   "outputs": [],
   "source": [
    "# Import library untuk modeling\n",
    "\n",
    "from sklearn.model_selection import train_test_split, cross_val_score, RandomizedSearchCV, GridSearchCV, KFold\n",
    "\n",
    "import category_encoders as ce\n",
    "from sklearn.preprocessing import OneHotEncoder, KBinsDiscretizer\n",
    "from sklearn.compose import ColumnTransformer\n",
    "from sklearn.pipeline import Pipeline\n",
    "\n",
    "from sklearn.linear_model import LinearRegression, Ridge, Lasso\n",
    "from sklearn.neighbors import KNeighborsRegressor\n",
    "from sklearn.tree import DecisionTreeRegressor\n",
    "from sklearn.ensemble import RandomForestRegressor\n",
    "from xgboost.sklearn import XGBRegressor\n",
    "from sklearn.compose import TransformedTargetRegressor\n",
    "\n",
    "from sklearn.preprocessing import StandardScaler\n",
    "\n",
    "from sklearn.metrics import r2_score, mean_squared_error, mean_absolute_error, mean_absolute_percentage_error, accuracy_score"
   ]
  },
  {
   "cell_type": "markdown",
   "id": "dfddd15c",
   "metadata": {},
   "source": [
    "**Encoding**\n",
    "\n",
    "Agar dapat menggunakan semua fitur yang dipilih, maka fitur kategorikal harus diubah menjadi fitur numerikal menggunakan encoding. Kali ini akan digunakan Column Transformer untuk dapat mengubah tipe datanya, yang mana nanti dapat diaplikasikan pada pipeline model.\n",
    "\n",
    "Untuk fitur `Options`, `Origin`, dan `Gear type` encoding yang digunakan adalah onehot encoding, sedangkan fitur `Type`, `Region`, dan `Make` menggunakan binary encoding, dan untuk fitur `Mileage` dilakukan binning equal frequency."
   ]
  },
  {
   "cell_type": "code",
   "execution_count": 45,
   "id": "b8aada4b",
   "metadata": {},
   "outputs": [],
   "source": [
    "# mengubah fitur kategorikal menjadi numerikal\n",
    "\n",
    "transformer = ColumnTransformer([\n",
    "    ('onehot', OneHotEncoder(drop='first'), ['Options','Origin','Gear_Type']),\n",
    "    ('binary', ce.BinaryEncoder(), ['Type','Region','Make']),\n",
    "    ('binner', KBinsDiscretizer(n_bins=4, encode='onehot', strategy='quantile'), ['Mileage'])\n",
    "], remainder='passthrough')"
   ]
  },
  {
   "cell_type": "markdown",
   "id": "07f3a0bc",
   "metadata": {},
   "source": [
    "**Data Splitting**"
   ]
  },
  {
   "cell_type": "code",
   "execution_count": 46,
   "id": "5149748c",
   "metadata": {},
   "outputs": [],
   "source": [
    "# Memisahkan fitur dengan target\n",
    "x = df_model.drop(['Price'], axis=1)\n",
    "y = df_model['Price']"
   ]
  },
  {
   "cell_type": "markdown",
   "id": "392ae6c3",
   "metadata": {},
   "source": [
    "**Train dan Test Splitting**"
   ]
  },
  {
   "cell_type": "code",
   "execution_count": 47,
   "id": "1e64b6a7",
   "metadata": {},
   "outputs": [],
   "source": [
    "# splitting data train dan test denga proporsi 70:30\n",
    "x_train, x_test, y_train, y_test = train_test_split(x, y, test_size=0.3, random_state=2020)"
   ]
  },
  {
   "cell_type": "markdown",
   "id": "567f9c8b",
   "metadata": {},
   "source": [
    "**Choose a Benchmark Model**"
   ]
  },
  {
   "cell_type": "code",
   "execution_count": 48,
   "id": "131921c1",
   "metadata": {},
   "outputs": [
    {
     "name": "stdout",
     "output_type": "stream",
     "text": [
      "[-25588.93011315 -26935.3293754  -27878.743689   -26253.6701893\n",
      " -24820.50331644] TransformedTargetRegressor(func=<ufunc 'log'>, inverse_func=<ufunc 'exp'>,\n",
      "                           regressor=LinearRegression())\n",
      "[-17116.19259286 -18365.57475345 -17463.74944726 -18199.97941811\n",
      " -17597.3261428 ] TransformedTargetRegressor(func=<ufunc 'log'>, inverse_func=<ufunc 'exp'>,\n",
      "                           regressor=LinearRegression())\n",
      "[-0.30792837 -0.3159457  -0.27673582 -0.31036842 -0.32956428] TransformedTargetRegressor(func=<ufunc 'log'>, inverse_func=<ufunc 'exp'>,\n",
      "                           regressor=LinearRegression())\n",
      "[-18148.46837999 -20741.75696863 -19486.68791698 -20453.12890699\n",
      " -18694.15196656] TransformedTargetRegressor(func=<ufunc 'log'>, inverse_func=<ufunc 'exp'>,\n",
      "                           regressor=KNeighborsRegressor())\n",
      "[-12285.98259542 -13647.22982955 -13035.89179143 -12247.95797047\n",
      " -11960.40173106] TransformedTargetRegressor(func=<ufunc 'log'>, inverse_func=<ufunc 'exp'>,\n",
      "                           regressor=KNeighborsRegressor())\n",
      "[-0.23732972 -0.2419827  -0.2288944  -0.21239008 -0.2417998 ] TransformedTargetRegressor(func=<ufunc 'log'>, inverse_func=<ufunc 'exp'>,\n",
      "                           regressor=KNeighborsRegressor())\n",
      "[-25589.09143692 -26937.54639791 -27879.74034981 -26254.33584435\n",
      " -24820.50564838] TransformedTargetRegressor(func=<ufunc 'log'>, inverse_func=<ufunc 'exp'>,\n",
      "                           regressor=Ridge(alpha=0.001))\n",
      "[-17116.51538636 -18366.03100903 -17464.27842714 -18200.21796468\n",
      " -17597.32477815] TransformedTargetRegressor(func=<ufunc 'log'>, inverse_func=<ufunc 'exp'>,\n",
      "                           regressor=Ridge(alpha=0.001))\n",
      "[-0.30794665 -0.31589724 -0.27671234 -0.31037337 -0.32956436] TransformedTargetRegressor(func=<ufunc 'log'>, inverse_func=<ufunc 'exp'>,\n",
      "                           regressor=Ridge(alpha=0.001))\n",
      "[-25657.28283532 -26752.85772458 -28049.32639146 -26268.875837\n",
      " -24969.2679537 ] TransformedTargetRegressor(func=<ufunc 'log'>, inverse_func=<ufunc 'exp'>,\n",
      "                           regressor=Lasso(alpha=0.001))\n",
      "[-17115.48360992 -18181.0340906  -17543.66863725 -18113.35741162\n",
      " -17640.78101766] TransformedTargetRegressor(func=<ufunc 'log'>, inverse_func=<ufunc 'exp'>,\n",
      "                           regressor=Lasso(alpha=0.001))\n",
      "[-0.30805857 -0.31372202 -0.27817279 -0.30823875 -0.33189093] TransformedTargetRegressor(func=<ufunc 'log'>, inverse_func=<ufunc 'exp'>,\n",
      "                           regressor=Lasso(alpha=0.001))\n",
      "[-27172.80285689 -26365.45645965 -22411.87110835 -23337.34933906\n",
      " -24669.37634102] TransformedTargetRegressor(func=<ufunc 'log'>, inverse_func=<ufunc 'exp'>,\n",
      "                           regressor=DecisionTreeRegressor(random_state=2020))\n",
      "[-16438.41677243 -16273.15734626 -14850.40636611 -14826.91049857\n",
      " -14796.67968513] TransformedTargetRegressor(func=<ufunc 'log'>, inverse_func=<ufunc 'exp'>,\n",
      "                           regressor=DecisionTreeRegressor(random_state=2020))\n",
      "[-0.32200363 -0.27433681 -0.26002392 -0.27289774 -0.32342605] TransformedTargetRegressor(func=<ufunc 'log'>, inverse_func=<ufunc 'exp'>,\n",
      "                           regressor=DecisionTreeRegressor(random_state=2020))\n",
      "[-18095.48074513 -20785.85408881 -20104.92235534 -18755.5601307\n",
      " -16583.36735729] TransformedTargetRegressor(func=<ufunc 'log'>, inverse_func=<ufunc 'exp'>,\n",
      "                           regressor=RandomForestRegressor(random_state=2020))\n",
      "[-12054.3063586  -13049.60841391 -12448.84707315 -11512.76590624\n",
      " -10672.53759419] TransformedTargetRegressor(func=<ufunc 'log'>, inverse_func=<ufunc 'exp'>,\n",
      "                           regressor=RandomForestRegressor(random_state=2020))\n",
      "[-0.22867303 -0.22331936 -0.20191054 -0.19754483 -0.21328072] TransformedTargetRegressor(func=<ufunc 'log'>, inverse_func=<ufunc 'exp'>,\n",
      "                           regressor=RandomForestRegressor(random_state=2020))\n",
      "[-15891.48218405 -19994.54723598 -17052.09651106 -16564.34269488\n",
      " -14733.89038816] TransformedTargetRegressor(func=<ufunc 'log'>, inverse_func=<ufunc 'exp'>,\n",
      "                           regressor=XGBRegressor(base_score=None, booster=None,\n",
      "                                                  callbacks=None,\n",
      "                                                  colsample_bylevel=None,\n",
      "                                                  colsample_bynode=None,\n",
      "                                                  colsample_bytree=None,\n",
      "                                                  early_stopping_rounds=None,\n",
      "                                                  enable_categorical=False,\n",
      "                                                  eval_metric=None,\n",
      "                                                  feature_types=None,\n",
      "                                                  gamma=None, gpu_id=None,\n",
      "                                                  grow_policy=None,\n",
      "                                                  importance_type=None,\n",
      "                                                  interaction_constraints=None,\n",
      "                                                  learning_rate=None,\n",
      "                                                  max_bin=None,\n",
      "                                                  max_cat_threshold=None,\n",
      "                                                  max_cat_to_onehot=None,\n",
      "                                                  max_delta_step=None,\n",
      "                                                  max_depth=None,\n",
      "                                                  max_leaves=None,\n",
      "                                                  min_child_weight=None,\n",
      "                                                  missing=nan,\n",
      "                                                  monotone_constraints=None,\n",
      "                                                  n_estimators=100, n_jobs=None,\n",
      "                                                  num_parallel_tree=None,\n",
      "                                                  predictor=None,\n",
      "                                                  random_state=2020, ...))\n",
      "[-10510.08892992 -12503.44580392 -10830.10999398 -10515.3785884\n",
      "  -9898.19482526] TransformedTargetRegressor(func=<ufunc 'log'>, inverse_func=<ufunc 'exp'>,\n",
      "                           regressor=XGBRegressor(base_score=None, booster=None,\n",
      "                                                  callbacks=None,\n",
      "                                                  colsample_bylevel=None,\n",
      "                                                  colsample_bynode=None,\n",
      "                                                  colsample_bytree=None,\n",
      "                                                  early_stopping_rounds=None,\n",
      "                                                  enable_categorical=False,\n",
      "                                                  eval_metric=None,\n",
      "                                                  feature_types=None,\n",
      "                                                  gamma=None, gpu_id=None,\n",
      "                                                  grow_policy=None,\n",
      "                                                  importance_type=None,\n",
      "                                                  interaction_constraints=None,\n",
      "                                                  learning_rate=None,\n",
      "                                                  max_bin=None,\n",
      "                                                  max_cat_threshold=None,\n",
      "                                                  max_cat_to_onehot=None,\n",
      "                                                  max_delta_step=None,\n",
      "                                                  max_depth=None,\n",
      "                                                  max_leaves=None,\n",
      "                                                  min_child_weight=None,\n",
      "                                                  missing=nan,\n",
      "                                                  monotone_constraints=None,\n",
      "                                                  n_estimators=100, n_jobs=None,\n",
      "                                                  num_parallel_tree=None,\n",
      "                                                  predictor=None,\n",
      "                                                  random_state=2020, ...))\n",
      "[-0.19557557 -0.20434464 -0.18170944 -0.18056229 -0.18752538] TransformedTargetRegressor(func=<ufunc 'log'>, inverse_func=<ufunc 'exp'>,\n",
      "                           regressor=XGBRegressor(base_score=None, booster=None,\n",
      "                                                  callbacks=None,\n",
      "                                                  colsample_bylevel=None,\n",
      "                                                  colsample_bynode=None,\n",
      "                                                  colsample_bytree=None,\n",
      "                                                  early_stopping_rounds=None,\n",
      "                                                  enable_categorical=False,\n",
      "                                                  eval_metric=None,\n",
      "                                                  feature_types=None,\n",
      "                                                  gamma=None, gpu_id=None,\n",
      "                                                  grow_policy=None,\n",
      "                                                  importance_type=None,\n",
      "                                                  interaction_constraints=None,\n",
      "                                                  learning_rate=None,\n",
      "                                                  max_bin=None,\n",
      "                                                  max_cat_threshold=None,\n",
      "                                                  max_cat_to_onehot=None,\n",
      "                                                  max_delta_step=None,\n",
      "                                                  max_depth=None,\n",
      "                                                  max_leaves=None,\n",
      "                                                  min_child_weight=None,\n",
      "                                                  missing=nan,\n",
      "                                                  monotone_constraints=None,\n",
      "                                                  n_estimators=100, n_jobs=None,\n",
      "                                                  num_parallel_tree=None,\n",
      "                                                  predictor=None,\n",
      "                                                  random_state=2020, ...))\n"
     ]
    }
   ],
   "source": [
    "# Define algoritma yang digunakan\n",
    "lr = LinearRegression()\n",
    "knn = KNeighborsRegressor()\n",
    "rd = Ridge(alpha=0.001)\n",
    "ls = Lasso(alpha=0.001)\n",
    "dt = DecisionTreeRegressor(random_state=2020)\n",
    "rf = RandomForestRegressor(random_state=2020)\n",
    "xgb = XGBRegressor(random_state=2020)\n",
    "\n",
    "# Pemodelan dilakukan dalam skala logaritmik, namun kemudian di-inverse kembali untuk interpretasi\n",
    "log_lr = TransformedTargetRegressor(lr, func=np.log, inverse_func=np.exp)\n",
    "log_knn = TransformedTargetRegressor(knn, func=np.log, inverse_func=np.exp)\n",
    "log_rd = TransformedTargetRegressor(rd, func=np.log, inverse_func=np.exp)\n",
    "log_ls = TransformedTargetRegressor(ls, func=np.log, inverse_func=np.exp)\n",
    "log_dt = TransformedTargetRegressor(dt, func=np.log, inverse_func=np.exp)\n",
    "log_rf = TransformedTargetRegressor(rf, func=np.log, inverse_func=np.exp)\n",
    "log_xgb = TransformedTargetRegressor(xgb, func=np.log, inverse_func=np.exp)\n",
    "\n",
    "# Scaling data\n",
    "scaler = StandardScaler()\n",
    "\n",
    "# Kandidat algoritma\n",
    "models = [log_lr, log_knn, log_rd, log_ls, log_dt, log_rf, log_xgb]\n",
    "\n",
    "score_rmse = []\n",
    "nilai_mean_rmse = []\n",
    "nilai_std_rmse = []\n",
    "\n",
    "score_mae = []\n",
    "nilai_mean_mae = []\n",
    "nilai_std_mae = []\n",
    "\n",
    "score_mape = []\n",
    "nilai_mean_mape = []\n",
    "nilai_std_mape = []\n",
    "\n",
    "# Mencari algoritma terbaik berdasarkan nilai MAE\n",
    "for i in models:\n",
    "    \n",
    "    crossval = KFold(n_splits=5, shuffle=True, random_state=2020)\n",
    "\n",
    "    estimator = Pipeline([\n",
    "        ('preprocessing', transformer),\n",
    "        ('model', i)\n",
    "    ])\n",
    "\n",
    "    # RMSE\n",
    "    model_cv_rmse = cross_val_score(\n",
    "        estimator, \n",
    "        x_train, \n",
    "        y_train, \n",
    "        cv=crossval, \n",
    "        scoring='neg_root_mean_squared_error'\n",
    "        )\n",
    "\n",
    "    print(model_cv_rmse, i)\n",
    "\n",
    "    score_rmse.append(model_cv_rmse)\n",
    "    nilai_mean_rmse.append(model_cv_rmse.mean())\n",
    "    nilai_std_rmse.append(model_cv_rmse.std())\n",
    "\n",
    "    # MAE\n",
    "    model_cv_mae = cross_val_score(\n",
    "        estimator, \n",
    "        x_train, \n",
    "        y_train, \n",
    "        cv=crossval, \n",
    "        scoring='neg_mean_absolute_error'\n",
    "        )\n",
    "\n",
    "    print(model_cv_mae, i)\n",
    "\n",
    "    score_mae.append(model_cv_mae)\n",
    "    nilai_mean_mae.append(model_cv_mae.mean())\n",
    "    nilai_std_mae.append(model_cv_mae.std())\n",
    "\n",
    "    # MAPE\n",
    "    model_cv_mape = cross_val_score(\n",
    "        estimator, \n",
    "        x_train, \n",
    "        y_train, \n",
    "        cv=crossval, \n",
    "        scoring='neg_mean_absolute_percentage_error'\n",
    "        )\n",
    "\n",
    "    print(model_cv_mape, i)\n",
    "\n",
    "    score_mape.append(model_cv_mape)\n",
    "    nilai_mean_mape.append(model_cv_mape.mean())\n",
    "    nilai_std_mape.append(model_cv_mape.std())"
   ]
  },
  {
   "cell_type": "code",
   "execution_count": 49,
   "id": "1c3d76e0",
   "metadata": {
    "scrolled": false
   },
   "outputs": [
    {
     "data": {
      "text/html": [
       "<div>\n",
       "<style scoped>\n",
       "    .dataframe tbody tr th:only-of-type {\n",
       "        vertical-align: middle;\n",
       "    }\n",
       "\n",
       "    .dataframe tbody tr th {\n",
       "        vertical-align: top;\n",
       "    }\n",
       "\n",
       "    .dataframe thead th {\n",
       "        text-align: right;\n",
       "    }\n",
       "</style>\n",
       "<table border=\"1\" class=\"dataframe\">\n",
       "  <thead>\n",
       "    <tr style=\"text-align: right;\">\n",
       "      <th></th>\n",
       "      <th>Model</th>\n",
       "      <th>Mean_RMSE</th>\n",
       "      <th>Std_RMSE</th>\n",
       "      <th>Mean_MAE</th>\n",
       "      <th>Std_MAE</th>\n",
       "      <th>Mean_MAPE</th>\n",
       "      <th>Std_MAPE</th>\n",
       "    </tr>\n",
       "  </thead>\n",
       "  <tbody>\n",
       "    <tr>\n",
       "      <th>0</th>\n",
       "      <td>Linear Regression</td>\n",
       "      <td>-26295.435337</td>\n",
       "      <td>1057.605611</td>\n",
       "      <td>-17748.564471</td>\n",
       "      <td>466.554169</td>\n",
       "      <td>-0.308109</td>\n",
       "      <td>0.017385</td>\n",
       "    </tr>\n",
       "    <tr>\n",
       "      <th>1</th>\n",
       "      <td>KNN Regressor</td>\n",
       "      <td>-19504.838828</td>\n",
       "      <td>992.623191</td>\n",
       "      <td>-12635.492784</td>\n",
       "      <td>618.388187</td>\n",
       "      <td>-0.232479</td>\n",
       "      <td>0.011110</td>\n",
       "    </tr>\n",
       "    <tr>\n",
       "      <th>2</th>\n",
       "      <td>Ridge</td>\n",
       "      <td>-26296.243935</td>\n",
       "      <td>1058.144998</td>\n",
       "      <td>-17748.873513</td>\n",
       "      <td>466.569046</td>\n",
       "      <td>-0.308099</td>\n",
       "      <td>0.017389</td>\n",
       "    </tr>\n",
       "    <tr>\n",
       "      <th>3</th>\n",
       "      <td>Lasso</td>\n",
       "      <td>-26339.522148</td>\n",
       "      <td>1043.294281</td>\n",
       "      <td>-17718.864953</td>\n",
       "      <td>392.449871</td>\n",
       "      <td>-0.308017</td>\n",
       "      <td>0.017281</td>\n",
       "    </tr>\n",
       "    <tr>\n",
       "      <th>4</th>\n",
       "      <td>DecisionTree Regressor</td>\n",
       "      <td>-24791.371221</td>\n",
       "      <td>1785.499602</td>\n",
       "      <td>-15437.114134</td>\n",
       "      <td>752.104513</td>\n",
       "      <td>-0.290538</td>\n",
       "      <td>0.026745</td>\n",
       "    </tr>\n",
       "    <tr>\n",
       "      <th>5</th>\n",
       "      <td>RandomForest Regressor</td>\n",
       "      <td>-18865.036935</td>\n",
       "      <td>1485.737013</td>\n",
       "      <td>-11947.613069</td>\n",
       "      <td>811.408929</td>\n",
       "      <td>-0.212946</td>\n",
       "      <td>0.011950</td>\n",
       "    </tr>\n",
       "    <tr>\n",
       "      <th>6</th>\n",
       "      <td>XGBoost Regressor</td>\n",
       "      <td>-16847.271803</td>\n",
       "      <td>1755.406477</td>\n",
       "      <td>-10851.443628</td>\n",
       "      <td>879.512630</td>\n",
       "      <td>-0.189943</td>\n",
       "      <td>0.008953</td>\n",
       "    </tr>\n",
       "  </tbody>\n",
       "</table>\n",
       "</div>"
      ],
      "text/plain": [
       "                    Model     Mean_RMSE     Std_RMSE      Mean_MAE  \\\n",
       "0       Linear Regression -26295.435337  1057.605611 -17748.564471   \n",
       "1           KNN Regressor -19504.838828   992.623191 -12635.492784   \n",
       "2                   Ridge -26296.243935  1058.144998 -17748.873513   \n",
       "3                   Lasso -26339.522148  1043.294281 -17718.864953   \n",
       "4  DecisionTree Regressor -24791.371221  1785.499602 -15437.114134   \n",
       "5  RandomForest Regressor -18865.036935  1485.737013 -11947.613069   \n",
       "6       XGBoost Regressor -16847.271803  1755.406477 -10851.443628   \n",
       "\n",
       "      Std_MAE  Mean_MAPE  Std_MAPE  \n",
       "0  466.554169  -0.308109  0.017385  \n",
       "1  618.388187  -0.232479  0.011110  \n",
       "2  466.569046  -0.308099  0.017389  \n",
       "3  392.449871  -0.308017  0.017281  \n",
       "4  752.104513  -0.290538  0.026745  \n",
       "5  811.408929  -0.212946  0.011950  \n",
       "6  879.512630  -0.189943  0.008953  "
      ]
     },
     "execution_count": 49,
     "metadata": {},
     "output_type": "execute_result"
    }
   ],
   "source": [
    "# Evaluasi hasil dari 5 kandidat algoritma yang digunakan\n",
    "pd.DataFrame({\n",
    "    'Model': ['Linear Regression', 'KNN Regressor', 'Ridge', 'Lasso','DecisionTree Regressor', 'RandomForest Regressor', 'XGBoost Regressor'],\n",
    "    'Mean_RMSE': nilai_mean_rmse, 'Std_RMSE': nilai_std_rmse,\n",
    "    'Mean_MAE': nilai_mean_mae, 'Std_MAE': nilai_std_mae,\n",
    "    'Mean_MAPE': nilai_mean_mape, 'Std_MAPE': nilai_std_mape})"
   ]
  },
  {
   "cell_type": "markdown",
   "id": "8c45e7fd",
   "metadata": {},
   "source": [
    "Terdapat perbedaan yang cukup sinifikan antara nilai RMSE dan MAE, dimana nilai RMSE lebih tinggi karena nilai residuals atau error-nya dikuadratkan terlebih dahulu sebelum dirata-ratakan. Hal ini menyebabkan RMSE akan memberikan 'weight' yang lebih tinggi untuk nilai error yang besar. Dengan kata lain, terdapat niali-nilai error yang besar yang dihasilkan oleh semua algoritma yang digunakan, sehingga ada perbedaan signifikan antara nilai RMSE dan MAE.\n",
    "\n",
    "Berdasarkan nilai RMSE, MAE, dan MAPE model XGBoost adalah model terbaik karena memiliki nilai paling rendah. Setelah itu akan dilakukan prediksi pada test set dengan benchmark XGboost sebagai model terbaik."
   ]
  },
  {
   "cell_type": "markdown",
   "id": "77c5839d",
   "metadata": {},
   "source": [
    "Algoritma XGBoost basicnya adalah decision tree. Secara garis besar model ini bekerja dengan membangun satu tree model dengan penyesuaian data, kemudian tree model berikutnya dibangun untuk mengurangi error  dengan memberikan weight (bobot) pada data yang prediksinya salah. Proses evaluasi ini dilakukan sampai dengan instruksi yang diberikan berakhir. Hasil tiap pohon keputusan kemudian akan dilakukan majority voting untuk menentukan final prediksi.\n",
    "\n",
    "Pada dasarnya, algoritma ini sama dengan algoritma gradient boost hanya saja menggunakan beberapa proses tambahan sehingga lebih powerful. Proses tersebut adalah pemangkasan, newton boosting, dan parameter pengacakan ekstra. Proses pemangkasan atau penyusutan proporsional simpul daun digunakan untuk meningkatkan generalisasi model. proses newton boosting adalah proses untuk menyediakan rute langsung sehingga tidak memerlukan penurunan gradient. Proses pengacakan parameter bertujuan untuk mengurangi korelasi antar tree sehingga dapat meningkatkan kekuatan algoritma ensemble."
   ]
  },
  {
   "cell_type": "markdown",
   "id": "deb4b327",
   "metadata": {},
   "source": [
    "**Predict to Test Set with the Benchmark Model**\n",
    "\n",
    "Prediksi pada test set dengan model XGBoost"
   ]
  },
  {
   "cell_type": "code",
   "execution_count": 50,
   "id": "95089a82",
   "metadata": {
    "scrolled": true
   },
   "outputs": [
    {
     "data": {
      "text/html": [
       "<div>\n",
       "<style scoped>\n",
       "    .dataframe tbody tr th:only-of-type {\n",
       "        vertical-align: middle;\n",
       "    }\n",
       "\n",
       "    .dataframe tbody tr th {\n",
       "        vertical-align: top;\n",
       "    }\n",
       "\n",
       "    .dataframe thead th {\n",
       "        text-align: right;\n",
       "    }\n",
       "</style>\n",
       "<table border=\"1\" class=\"dataframe\">\n",
       "  <thead>\n",
       "    <tr style=\"text-align: right;\">\n",
       "      <th></th>\n",
       "      <th>RMSE</th>\n",
       "      <th>MAE</th>\n",
       "      <th>MAPE</th>\n",
       "    </tr>\n",
       "  </thead>\n",
       "  <tbody>\n",
       "    <tr>\n",
       "      <th>xgb</th>\n",
       "      <td>17322.227348</td>\n",
       "      <td>11120.318708</td>\n",
       "      <td>0.200699</td>\n",
       "    </tr>\n",
       "  </tbody>\n",
       "</table>\n",
       "</div>"
      ],
      "text/plain": [
       "             RMSE           MAE      MAPE\n",
       "xgb  17322.227348  11120.318708  0.200699"
      ]
     },
     "execution_count": 50,
     "metadata": {},
     "output_type": "execute_result"
    }
   ],
   "source": [
    "mod = {'xgb' : XGBRegressor(random_state=2020)}\n",
    "\n",
    "# Benchmark model XGBoost\n",
    "xgb = XGBRegressor(random_state = 2020)\n",
    "estimator = Pipeline([\n",
    "    (\"preprocessing\", transformer),\n",
    "    (\"model\", xgb)\n",
    "])\n",
    "\n",
    "estimator.fit(x_train, y_train)\n",
    "y_pred = estimator.predict(x_test)\n",
    "\n",
    "rmse_xgb = np.sqrt(mean_squared_error(y_test, y_pred))\n",
    "mae_xgb = mean_absolute_error(y_test, y_pred)\n",
    "mape_xgb = mean_absolute_percentage_error(y_test, y_pred)\n",
    "\n",
    "score_before_tuning = pd.DataFrame({'RMSE': rmse_xgb, 'MAE': mae_xgb, 'MAPE': mape_xgb}, index=mod.keys())\n",
    "score_before_tuning"
   ]
  },
  {
   "cell_type": "markdown",
   "id": "1c7fada0",
   "metadata": {},
   "source": [
    "Setelah dilakukan prediksi pada test set didapatkan nilai MAPE sebesar 20%, setelah ini akan dilakukan hyperparameter tuning dengan harapan dapat meningkatkan performa model."
   ]
  },
  {
   "cell_type": "markdown",
   "id": "4bb8606f",
   "metadata": {},
   "source": [
    "**Hyperparameter Tuning**\n",
    "\n",
    "Pada tahap ini, kita akan melakukan hyperparameter tuning pada model XGBoost dengan harapan dapat meningkatkan performa model.\n",
    "\n",
    "Pada XGBoost terdapat beberapa kategori parameter yang bisa dituning, diantaranya adalah:\n",
    "* general parameter: booster, verbosity\n",
    "* parameter for tree booster: eta (learning_rate), gamma, max_depth, subsample, lambda, alpha, scale_pos_weight\n",
    "\n",
    "Pada kali ini akan dilakukan hyperparameter tuning dengan beberapa parameter, diantaranya:\n",
    "1. max_depth\n",
    "2. eta (learning_rate)\n",
    "3. n_estimator\n",
    "4. gamma\n",
    "\n",
    "[source hyperparameter tuning XGBoost model](https://xgboost.readthedocs.io/en/latest/parameter.html#general-parameters)"
   ]
  },
  {
   "cell_type": "code",
   "execution_count": 51,
   "id": "525c2abb",
   "metadata": {},
   "outputs": [],
   "source": [
    "# Hyperparam space XGboost\n",
    "hyperparam_space_xgb = {\n",
    "    'model__max_depth': [4,5,6,7,8], \n",
    "    'model__learning_rate': [0.1,0.05,0.01],\n",
    "    'model__n_estimators': [100,125,150,175,200],\n",
    "    'model__gamma': [0,3,5,7]\n",
    "}"
   ]
  },
  {
   "cell_type": "markdown",
   "id": "8d79c91f",
   "metadata": {},
   "source": [
    "Penjelasan hyperparameter XGBoost:\n",
    "- max_depth: maksimum kedalaman pohon. Semakin tinggi nilai max_depth dapat meningkatkan performa model namun dapat meningkatkan kompleksitas model dan dapat menyebabkan overfitting.\n",
    "- learning_rate: pengurangan step size yang digunakan untuk mencegah overfitting. Setiap setelah dilakukan boosting kita akan mendapatkan weight untuk fitur baru dari hasil boosting sebelumnya, dan learning rate mengecilkan weight fitur agar proses boosting lebih konservatif.\n",
    "- n_estimator: jumlah operasi yang akan dicoba dipelajari oleh model\n",
    "- gamma: parameter psuedo-regularization yang bergantung dengan parameter lain. Semakin besar gamma, semakin konservatif algoritmanya.\n",
    "\n",
    "[source hyperparameter tuning XGBoost model](https://xgboost.readthedocs.io/en/latest/parameter.html#general-parameters)"
   ]
  },
  {
   "cell_type": "code",
   "execution_count": 52,
   "id": "322d08d0",
   "metadata": {},
   "outputs": [],
   "source": [
    "# Benchmark model dengan hyperparameter tuning\n",
    "xgb = XGBRegressor(random_state=2020)\n",
    "\n",
    "# Membuat algorithm chains\n",
    "estimator_xgb = Pipeline([\n",
    "        ('preprocessing', transformer),\n",
    "        ('model', xgb)\n",
    "        ])\n",
    "\n",
    "crossval = KFold(n_splits=5, shuffle=True, random_state=2020)\n",
    "\n",
    "# Hyperparameter tuning\n",
    "random_xgb = GridSearchCV(\n",
    "    estimator_xgb, \n",
    "    param_grid = hyperparam_space_xgb,\n",
    "    cv = crossval, \n",
    "    scoring = 'neg_mean_absolute_percentage_error', \n",
    "    n_jobs = -1 \n",
    ")"
   ]
  },
  {
   "cell_type": "code",
   "execution_count": 53,
   "id": "4e8a1a2a",
   "metadata": {},
   "outputs": [
    {
     "data": {
      "text/html": [
       "<style>#sk-container-id-1 {color: black;background-color: white;}#sk-container-id-1 pre{padding: 0;}#sk-container-id-1 div.sk-toggleable {background-color: white;}#sk-container-id-1 label.sk-toggleable__label {cursor: pointer;display: block;width: 100%;margin-bottom: 0;padding: 0.3em;box-sizing: border-box;text-align: center;}#sk-container-id-1 label.sk-toggleable__label-arrow:before {content: \"▸\";float: left;margin-right: 0.25em;color: #696969;}#sk-container-id-1 label.sk-toggleable__label-arrow:hover:before {color: black;}#sk-container-id-1 div.sk-estimator:hover label.sk-toggleable__label-arrow:before {color: black;}#sk-container-id-1 div.sk-toggleable__content {max-height: 0;max-width: 0;overflow: hidden;text-align: left;background-color: #f0f8ff;}#sk-container-id-1 div.sk-toggleable__content pre {margin: 0.2em;color: black;border-radius: 0.25em;background-color: #f0f8ff;}#sk-container-id-1 input.sk-toggleable__control:checked~div.sk-toggleable__content {max-height: 200px;max-width: 100%;overflow: auto;}#sk-container-id-1 input.sk-toggleable__control:checked~label.sk-toggleable__label-arrow:before {content: \"▾\";}#sk-container-id-1 div.sk-estimator input.sk-toggleable__control:checked~label.sk-toggleable__label {background-color: #d4ebff;}#sk-container-id-1 div.sk-label input.sk-toggleable__control:checked~label.sk-toggleable__label {background-color: #d4ebff;}#sk-container-id-1 input.sk-hidden--visually {border: 0;clip: rect(1px 1px 1px 1px);clip: rect(1px, 1px, 1px, 1px);height: 1px;margin: -1px;overflow: hidden;padding: 0;position: absolute;width: 1px;}#sk-container-id-1 div.sk-estimator {font-family: monospace;background-color: #f0f8ff;border: 1px dotted black;border-radius: 0.25em;box-sizing: border-box;margin-bottom: 0.5em;}#sk-container-id-1 div.sk-estimator:hover {background-color: #d4ebff;}#sk-container-id-1 div.sk-parallel-item::after {content: \"\";width: 100%;border-bottom: 1px solid gray;flex-grow: 1;}#sk-container-id-1 div.sk-label:hover label.sk-toggleable__label {background-color: #d4ebff;}#sk-container-id-1 div.sk-serial::before {content: \"\";position: absolute;border-left: 1px solid gray;box-sizing: border-box;top: 0;bottom: 0;left: 50%;z-index: 0;}#sk-container-id-1 div.sk-serial {display: flex;flex-direction: column;align-items: center;background-color: white;padding-right: 0.2em;padding-left: 0.2em;position: relative;}#sk-container-id-1 div.sk-item {position: relative;z-index: 1;}#sk-container-id-1 div.sk-parallel {display: flex;align-items: stretch;justify-content: center;background-color: white;position: relative;}#sk-container-id-1 div.sk-item::before, #sk-container-id-1 div.sk-parallel-item::before {content: \"\";position: absolute;border-left: 1px solid gray;box-sizing: border-box;top: 0;bottom: 0;left: 50%;z-index: -1;}#sk-container-id-1 div.sk-parallel-item {display: flex;flex-direction: column;z-index: 1;position: relative;background-color: white;}#sk-container-id-1 div.sk-parallel-item:first-child::after {align-self: flex-end;width: 50%;}#sk-container-id-1 div.sk-parallel-item:last-child::after {align-self: flex-start;width: 50%;}#sk-container-id-1 div.sk-parallel-item:only-child::after {width: 0;}#sk-container-id-1 div.sk-dashed-wrapped {border: 1px dashed gray;margin: 0 0.4em 0.5em 0.4em;box-sizing: border-box;padding-bottom: 0.4em;background-color: white;}#sk-container-id-1 div.sk-label label {font-family: monospace;font-weight: bold;display: inline-block;line-height: 1.2em;}#sk-container-id-1 div.sk-label-container {text-align: center;}#sk-container-id-1 div.sk-container {/* jupyter's `normalize.less` sets `[hidden] { display: none; }` but bootstrap.min.css set `[hidden] { display: none !important; }` so we also need the `!important` here to be able to override the default hidden behavior on the sphinx rendered scikit-learn.org. See: https://github.com/scikit-learn/scikit-learn/issues/21755 */display: inline-block !important;position: relative;}#sk-container-id-1 div.sk-text-repr-fallback {display: none;}</style><div id=\"sk-container-id-1\" class=\"sk-top-container\"><div class=\"sk-text-repr-fallback\"><pre>GridSearchCV(cv=KFold(n_splits=5, random_state=2020, shuffle=True),\n",
       "             estimator=Pipeline(steps=[(&#x27;preprocessing&#x27;,\n",
       "                                        ColumnTransformer(remainder=&#x27;passthrough&#x27;,\n",
       "                                                          transformers=[(&#x27;onehot&#x27;,\n",
       "                                                                         OneHotEncoder(drop=&#x27;first&#x27;),\n",
       "                                                                         [&#x27;Options&#x27;,\n",
       "                                                                          &#x27;Origin&#x27;,\n",
       "                                                                          &#x27;Gear_Type&#x27;]),\n",
       "                                                                        (&#x27;binary&#x27;,\n",
       "                                                                         BinaryEncoder(),\n",
       "                                                                         [&#x27;Type&#x27;,\n",
       "                                                                          &#x27;Region&#x27;,\n",
       "                                                                          &#x27;Make&#x27;]),\n",
       "                                                                        (&#x27;binner&#x27;,\n",
       "                                                                         KBinsDiscretizer(n_bins=4),\n",
       "                                                                         [&#x27;Mileage&#x27;])])),\n",
       "                                       (&#x27;model&#x27;,...\n",
       "                                                     min_child_weight=None,\n",
       "                                                     missing=nan,\n",
       "                                                     monotone_constraints=None,\n",
       "                                                     n_estimators=100,\n",
       "                                                     n_jobs=None,\n",
       "                                                     num_parallel_tree=None,\n",
       "                                                     predictor=None,\n",
       "                                                     random_state=2020, ...))]),\n",
       "             n_jobs=-1,\n",
       "             param_grid={&#x27;model__gamma&#x27;: [0, 3, 5, 7],\n",
       "                         &#x27;model__learning_rate&#x27;: [0.1, 0.05, 0.01],\n",
       "                         &#x27;model__max_depth&#x27;: [4, 5, 6, 7, 8],\n",
       "                         &#x27;model__n_estimators&#x27;: [100, 125, 150, 175, 200]},\n",
       "             scoring=&#x27;neg_mean_absolute_percentage_error&#x27;)</pre><b>In a Jupyter environment, please rerun this cell to show the HTML representation or trust the notebook. <br />On GitHub, the HTML representation is unable to render, please try loading this page with nbviewer.org.</b></div><div class=\"sk-container\" hidden><div class=\"sk-item sk-dashed-wrapped\"><div class=\"sk-label-container\"><div class=\"sk-label sk-toggleable\"><input class=\"sk-toggleable__control sk-hidden--visually\" id=\"sk-estimator-id-1\" type=\"checkbox\" ><label for=\"sk-estimator-id-1\" class=\"sk-toggleable__label sk-toggleable__label-arrow\">GridSearchCV</label><div class=\"sk-toggleable__content\"><pre>GridSearchCV(cv=KFold(n_splits=5, random_state=2020, shuffle=True),\n",
       "             estimator=Pipeline(steps=[(&#x27;preprocessing&#x27;,\n",
       "                                        ColumnTransformer(remainder=&#x27;passthrough&#x27;,\n",
       "                                                          transformers=[(&#x27;onehot&#x27;,\n",
       "                                                                         OneHotEncoder(drop=&#x27;first&#x27;),\n",
       "                                                                         [&#x27;Options&#x27;,\n",
       "                                                                          &#x27;Origin&#x27;,\n",
       "                                                                          &#x27;Gear_Type&#x27;]),\n",
       "                                                                        (&#x27;binary&#x27;,\n",
       "                                                                         BinaryEncoder(),\n",
       "                                                                         [&#x27;Type&#x27;,\n",
       "                                                                          &#x27;Region&#x27;,\n",
       "                                                                          &#x27;Make&#x27;]),\n",
       "                                                                        (&#x27;binner&#x27;,\n",
       "                                                                         KBinsDiscretizer(n_bins=4),\n",
       "                                                                         [&#x27;Mileage&#x27;])])),\n",
       "                                       (&#x27;model&#x27;,...\n",
       "                                                     min_child_weight=None,\n",
       "                                                     missing=nan,\n",
       "                                                     monotone_constraints=None,\n",
       "                                                     n_estimators=100,\n",
       "                                                     n_jobs=None,\n",
       "                                                     num_parallel_tree=None,\n",
       "                                                     predictor=None,\n",
       "                                                     random_state=2020, ...))]),\n",
       "             n_jobs=-1,\n",
       "             param_grid={&#x27;model__gamma&#x27;: [0, 3, 5, 7],\n",
       "                         &#x27;model__learning_rate&#x27;: [0.1, 0.05, 0.01],\n",
       "                         &#x27;model__max_depth&#x27;: [4, 5, 6, 7, 8],\n",
       "                         &#x27;model__n_estimators&#x27;: [100, 125, 150, 175, 200]},\n",
       "             scoring=&#x27;neg_mean_absolute_percentage_error&#x27;)</pre></div></div></div><div class=\"sk-parallel\"><div class=\"sk-parallel-item\"><div class=\"sk-item\"><div class=\"sk-label-container\"><div class=\"sk-label sk-toggleable\"><input class=\"sk-toggleable__control sk-hidden--visually\" id=\"sk-estimator-id-2\" type=\"checkbox\" ><label for=\"sk-estimator-id-2\" class=\"sk-toggleable__label sk-toggleable__label-arrow\">estimator: Pipeline</label><div class=\"sk-toggleable__content\"><pre>Pipeline(steps=[(&#x27;preprocessing&#x27;,\n",
       "                 ColumnTransformer(remainder=&#x27;passthrough&#x27;,\n",
       "                                   transformers=[(&#x27;onehot&#x27;,\n",
       "                                                  OneHotEncoder(drop=&#x27;first&#x27;),\n",
       "                                                  [&#x27;Options&#x27;, &#x27;Origin&#x27;,\n",
       "                                                   &#x27;Gear_Type&#x27;]),\n",
       "                                                 (&#x27;binary&#x27;, BinaryEncoder(),\n",
       "                                                  [&#x27;Type&#x27;, &#x27;Region&#x27;, &#x27;Make&#x27;]),\n",
       "                                                 (&#x27;binner&#x27;,\n",
       "                                                  KBinsDiscretizer(n_bins=4),\n",
       "                                                  [&#x27;Mileage&#x27;])])),\n",
       "                (&#x27;model&#x27;,\n",
       "                 XGBRegressor(base_score=None, booster=None, callbacks=None,\n",
       "                              colsample_bylevel=...\n",
       "                              feature_types=None, gamma=None, gpu_id=None,\n",
       "                              grow_policy=None, importance_type=None,\n",
       "                              interaction_constraints=None, learning_rate=None,\n",
       "                              max_bin=None, max_cat_threshold=None,\n",
       "                              max_cat_to_onehot=None, max_delta_step=None,\n",
       "                              max_depth=None, max_leaves=None,\n",
       "                              min_child_weight=None, missing=nan,\n",
       "                              monotone_constraints=None, n_estimators=100,\n",
       "                              n_jobs=None, num_parallel_tree=None,\n",
       "                              predictor=None, random_state=2020, ...))])</pre></div></div></div><div class=\"sk-serial\"><div class=\"sk-item\"><div class=\"sk-serial\"><div class=\"sk-item sk-dashed-wrapped\"><div class=\"sk-label-container\"><div class=\"sk-label sk-toggleable\"><input class=\"sk-toggleable__control sk-hidden--visually\" id=\"sk-estimator-id-3\" type=\"checkbox\" ><label for=\"sk-estimator-id-3\" class=\"sk-toggleable__label sk-toggleable__label-arrow\">preprocessing: ColumnTransformer</label><div class=\"sk-toggleable__content\"><pre>ColumnTransformer(remainder=&#x27;passthrough&#x27;,\n",
       "                  transformers=[(&#x27;onehot&#x27;, OneHotEncoder(drop=&#x27;first&#x27;),\n",
       "                                 [&#x27;Options&#x27;, &#x27;Origin&#x27;, &#x27;Gear_Type&#x27;]),\n",
       "                                (&#x27;binary&#x27;, BinaryEncoder(),\n",
       "                                 [&#x27;Type&#x27;, &#x27;Region&#x27;, &#x27;Make&#x27;]),\n",
       "                                (&#x27;binner&#x27;, KBinsDiscretizer(n_bins=4),\n",
       "                                 [&#x27;Mileage&#x27;])])</pre></div></div></div><div class=\"sk-parallel\"><div class=\"sk-parallel-item\"><div class=\"sk-item\"><div class=\"sk-label-container\"><div class=\"sk-label sk-toggleable\"><input class=\"sk-toggleable__control sk-hidden--visually\" id=\"sk-estimator-id-4\" type=\"checkbox\" ><label for=\"sk-estimator-id-4\" class=\"sk-toggleable__label sk-toggleable__label-arrow\">onehot</label><div class=\"sk-toggleable__content\"><pre>[&#x27;Options&#x27;, &#x27;Origin&#x27;, &#x27;Gear_Type&#x27;]</pre></div></div></div><div class=\"sk-serial\"><div class=\"sk-item\"><div class=\"sk-estimator sk-toggleable\"><input class=\"sk-toggleable__control sk-hidden--visually\" id=\"sk-estimator-id-5\" type=\"checkbox\" ><label for=\"sk-estimator-id-5\" class=\"sk-toggleable__label sk-toggleable__label-arrow\">OneHotEncoder</label><div class=\"sk-toggleable__content\"><pre>OneHotEncoder(drop=&#x27;first&#x27;)</pre></div></div></div></div></div></div><div class=\"sk-parallel-item\"><div class=\"sk-item\"><div class=\"sk-label-container\"><div class=\"sk-label sk-toggleable\"><input class=\"sk-toggleable__control sk-hidden--visually\" id=\"sk-estimator-id-6\" type=\"checkbox\" ><label for=\"sk-estimator-id-6\" class=\"sk-toggleable__label sk-toggleable__label-arrow\">binary</label><div class=\"sk-toggleable__content\"><pre>[&#x27;Type&#x27;, &#x27;Region&#x27;, &#x27;Make&#x27;]</pre></div></div></div><div class=\"sk-serial\"><div class=\"sk-item\"><div class=\"sk-estimator sk-toggleable\"><input class=\"sk-toggleable__control sk-hidden--visually\" id=\"sk-estimator-id-7\" type=\"checkbox\" ><label for=\"sk-estimator-id-7\" class=\"sk-toggleable__label sk-toggleable__label-arrow\">BinaryEncoder</label><div class=\"sk-toggleable__content\"><pre>BinaryEncoder()</pre></div></div></div></div></div></div><div class=\"sk-parallel-item\"><div class=\"sk-item\"><div class=\"sk-label-container\"><div class=\"sk-label sk-toggleable\"><input class=\"sk-toggleable__control sk-hidden--visually\" id=\"sk-estimator-id-8\" type=\"checkbox\" ><label for=\"sk-estimator-id-8\" class=\"sk-toggleable__label sk-toggleable__label-arrow\">binner</label><div class=\"sk-toggleable__content\"><pre>[&#x27;Mileage&#x27;]</pre></div></div></div><div class=\"sk-serial\"><div class=\"sk-item\"><div class=\"sk-estimator sk-toggleable\"><input class=\"sk-toggleable__control sk-hidden--visually\" id=\"sk-estimator-id-9\" type=\"checkbox\" ><label for=\"sk-estimator-id-9\" class=\"sk-toggleable__label sk-toggleable__label-arrow\">KBinsDiscretizer</label><div class=\"sk-toggleable__content\"><pre>KBinsDiscretizer(n_bins=4)</pre></div></div></div></div></div></div><div class=\"sk-parallel-item\"><div class=\"sk-item\"><div class=\"sk-label-container\"><div class=\"sk-label sk-toggleable\"><input class=\"sk-toggleable__control sk-hidden--visually\" id=\"sk-estimator-id-10\" type=\"checkbox\" ><label for=\"sk-estimator-id-10\" class=\"sk-toggleable__label sk-toggleable__label-arrow\">remainder</label><div class=\"sk-toggleable__content\"><pre>[&#x27;Year&#x27;, &#x27;Engine_Size&#x27;]</pre></div></div></div><div class=\"sk-serial\"><div class=\"sk-item\"><div class=\"sk-estimator sk-toggleable\"><input class=\"sk-toggleable__control sk-hidden--visually\" id=\"sk-estimator-id-11\" type=\"checkbox\" ><label for=\"sk-estimator-id-11\" class=\"sk-toggleable__label sk-toggleable__label-arrow\">passthrough</label><div class=\"sk-toggleable__content\"><pre>passthrough</pre></div></div></div></div></div></div></div></div><div class=\"sk-item\"><div class=\"sk-estimator sk-toggleable\"><input class=\"sk-toggleable__control sk-hidden--visually\" id=\"sk-estimator-id-12\" type=\"checkbox\" ><label for=\"sk-estimator-id-12\" class=\"sk-toggleable__label sk-toggleable__label-arrow\">XGBRegressor</label><div class=\"sk-toggleable__content\"><pre>XGBRegressor(base_score=None, booster=None, callbacks=None,\n",
       "             colsample_bylevel=None, colsample_bynode=None,\n",
       "             colsample_bytree=None, early_stopping_rounds=None,\n",
       "             enable_categorical=False, eval_metric=None, feature_types=None,\n",
       "             gamma=None, gpu_id=None, grow_policy=None, importance_type=None,\n",
       "             interaction_constraints=None, learning_rate=None, max_bin=None,\n",
       "             max_cat_threshold=None, max_cat_to_onehot=None,\n",
       "             max_delta_step=None, max_depth=None, max_leaves=None,\n",
       "             min_child_weight=None, missing=nan, monotone_constraints=None,\n",
       "             n_estimators=100, n_jobs=None, num_parallel_tree=None,\n",
       "             predictor=None, random_state=2020, ...)</pre></div></div></div></div></div></div></div></div></div></div></div></div>"
      ],
      "text/plain": [
       "GridSearchCV(cv=KFold(n_splits=5, random_state=2020, shuffle=True),\n",
       "             estimator=Pipeline(steps=[('preprocessing',\n",
       "                                        ColumnTransformer(remainder='passthrough',\n",
       "                                                          transformers=[('onehot',\n",
       "                                                                         OneHotEncoder(drop='first'),\n",
       "                                                                         ['Options',\n",
       "                                                                          'Origin',\n",
       "                                                                          'Gear_Type']),\n",
       "                                                                        ('binary',\n",
       "                                                                         BinaryEncoder(),\n",
       "                                                                         ['Type',\n",
       "                                                                          'Region',\n",
       "                                                                          'Make']),\n",
       "                                                                        ('binner',\n",
       "                                                                         KBinsDiscretizer(n_bins=4),\n",
       "                                                                         ['Mileage'])])),\n",
       "                                       ('model',...\n",
       "                                                     min_child_weight=None,\n",
       "                                                     missing=nan,\n",
       "                                                     monotone_constraints=None,\n",
       "                                                     n_estimators=100,\n",
       "                                                     n_jobs=None,\n",
       "                                                     num_parallel_tree=None,\n",
       "                                                     predictor=None,\n",
       "                                                     random_state=2020, ...))]),\n",
       "             n_jobs=-1,\n",
       "             param_grid={'model__gamma': [0, 3, 5, 7],\n",
       "                         'model__learning_rate': [0.1, 0.05, 0.01],\n",
       "                         'model__max_depth': [4, 5, 6, 7, 8],\n",
       "                         'model__n_estimators': [100, 125, 150, 175, 200]},\n",
       "             scoring='neg_mean_absolute_percentage_error')"
      ]
     },
     "execution_count": 53,
     "metadata": {},
     "output_type": "execute_result"
    }
   ],
   "source": [
    "# Fitting data training untuk mencari parameter terbaik\n",
    "random_xgb.fit(x_train, y_train)"
   ]
  },
  {
   "cell_type": "code",
   "execution_count": 54,
   "id": "f569103b",
   "metadata": {
    "scrolled": true
   },
   "outputs": [
    {
     "data": {
      "text/html": [
       "<div>\n",
       "<style scoped>\n",
       "    .dataframe tbody tr th:only-of-type {\n",
       "        vertical-align: middle;\n",
       "    }\n",
       "\n",
       "    .dataframe tbody tr th {\n",
       "        vertical-align: top;\n",
       "    }\n",
       "\n",
       "    .dataframe thead th {\n",
       "        text-align: right;\n",
       "    }\n",
       "</style>\n",
       "<table border=\"1\" class=\"dataframe\">\n",
       "  <thead>\n",
       "    <tr style=\"text-align: right;\">\n",
       "      <th></th>\n",
       "      <th>mean_fit_time</th>\n",
       "      <th>std_fit_time</th>\n",
       "      <th>mean_score_time</th>\n",
       "      <th>std_score_time</th>\n",
       "      <th>param_model__gamma</th>\n",
       "      <th>param_model__learning_rate</th>\n",
       "      <th>param_model__max_depth</th>\n",
       "      <th>param_model__n_estimators</th>\n",
       "      <th>params</th>\n",
       "      <th>split0_test_score</th>\n",
       "      <th>split1_test_score</th>\n",
       "      <th>split2_test_score</th>\n",
       "      <th>split3_test_score</th>\n",
       "      <th>split4_test_score</th>\n",
       "      <th>mean_test_score</th>\n",
       "      <th>std_test_score</th>\n",
       "      <th>rank_test_score</th>\n",
       "    </tr>\n",
       "  </thead>\n",
       "  <tbody>\n",
       "    <tr>\n",
       "      <th>89</th>\n",
       "      <td>1.564410</td>\n",
       "      <td>0.131460</td>\n",
       "      <td>0.045678</td>\n",
       "      <td>0.009677</td>\n",
       "      <td>3</td>\n",
       "      <td>0.1</td>\n",
       "      <td>6</td>\n",
       "      <td>200</td>\n",
       "      <td>{'model__gamma': 3, 'model__learning_rate': 0....</td>\n",
       "      <td>-0.230174</td>\n",
       "      <td>-0.221096</td>\n",
       "      <td>-0.191872</td>\n",
       "      <td>-0.201523</td>\n",
       "      <td>-0.241326</td>\n",
       "      <td>-0.217198</td>\n",
       "      <td>0.018182</td>\n",
       "      <td>1</td>\n",
       "    </tr>\n",
       "    <tr>\n",
       "      <th>239</th>\n",
       "      <td>1.654889</td>\n",
       "      <td>0.193322</td>\n",
       "      <td>0.042087</td>\n",
       "      <td>0.007501</td>\n",
       "      <td>7</td>\n",
       "      <td>0.1</td>\n",
       "      <td>6</td>\n",
       "      <td>200</td>\n",
       "      <td>{'model__gamma': 7, 'model__learning_rate': 0....</td>\n",
       "      <td>-0.230174</td>\n",
       "      <td>-0.221096</td>\n",
       "      <td>-0.191872</td>\n",
       "      <td>-0.201523</td>\n",
       "      <td>-0.241326</td>\n",
       "      <td>-0.217198</td>\n",
       "      <td>0.018182</td>\n",
       "      <td>1</td>\n",
       "    </tr>\n",
       "    <tr>\n",
       "      <th>14</th>\n",
       "      <td>1.604313</td>\n",
       "      <td>0.162731</td>\n",
       "      <td>0.043683</td>\n",
       "      <td>0.009719</td>\n",
       "      <td>0</td>\n",
       "      <td>0.1</td>\n",
       "      <td>6</td>\n",
       "      <td>200</td>\n",
       "      <td>{'model__gamma': 0, 'model__learning_rate': 0....</td>\n",
       "      <td>-0.230174</td>\n",
       "      <td>-0.221096</td>\n",
       "      <td>-0.191872</td>\n",
       "      <td>-0.201523</td>\n",
       "      <td>-0.241326</td>\n",
       "      <td>-0.217198</td>\n",
       "      <td>0.018182</td>\n",
       "      <td>1</td>\n",
       "    </tr>\n",
       "    <tr>\n",
       "      <th>164</th>\n",
       "      <td>1.654099</td>\n",
       "      <td>0.208533</td>\n",
       "      <td>0.048670</td>\n",
       "      <td>0.014011</td>\n",
       "      <td>5</td>\n",
       "      <td>0.1</td>\n",
       "      <td>6</td>\n",
       "      <td>200</td>\n",
       "      <td>{'model__gamma': 5, 'model__learning_rate': 0....</td>\n",
       "      <td>-0.230174</td>\n",
       "      <td>-0.221096</td>\n",
       "      <td>-0.191872</td>\n",
       "      <td>-0.201523</td>\n",
       "      <td>-0.241326</td>\n",
       "      <td>-0.217198</td>\n",
       "      <td>0.018182</td>\n",
       "      <td>1</td>\n",
       "    </tr>\n",
       "    <tr>\n",
       "      <th>13</th>\n",
       "      <td>1.605300</td>\n",
       "      <td>0.133807</td>\n",
       "      <td>0.048470</td>\n",
       "      <td>0.007611</td>\n",
       "      <td>0</td>\n",
       "      <td>0.1</td>\n",
       "      <td>6</td>\n",
       "      <td>175</td>\n",
       "      <td>{'model__gamma': 0, 'model__learning_rate': 0....</td>\n",
       "      <td>-0.230639</td>\n",
       "      <td>-0.220653</td>\n",
       "      <td>-0.192060</td>\n",
       "      <td>-0.202798</td>\n",
       "      <td>-0.240104</td>\n",
       "      <td>-0.217251</td>\n",
       "      <td>0.017644</td>\n",
       "      <td>5</td>\n",
       "    </tr>\n",
       "    <tr>\n",
       "      <th>...</th>\n",
       "      <td>...</td>\n",
       "      <td>...</td>\n",
       "      <td>...</td>\n",
       "      <td>...</td>\n",
       "      <td>...</td>\n",
       "      <td>...</td>\n",
       "      <td>...</td>\n",
       "      <td>...</td>\n",
       "      <td>...</td>\n",
       "      <td>...</td>\n",
       "      <td>...</td>\n",
       "      <td>...</td>\n",
       "      <td>...</td>\n",
       "      <td>...</td>\n",
       "      <td>...</td>\n",
       "      <td>...</td>\n",
       "      <td>...</td>\n",
       "    </tr>\n",
       "    <tr>\n",
       "      <th>215</th>\n",
       "      <td>1.091277</td>\n",
       "      <td>0.138435</td>\n",
       "      <td>0.036901</td>\n",
       "      <td>0.002360</td>\n",
       "      <td>5</td>\n",
       "      <td>0.01</td>\n",
       "      <td>7</td>\n",
       "      <td>100</td>\n",
       "      <td>{'model__gamma': 5, 'model__learning_rate': 0....</td>\n",
       "      <td>-0.328604</td>\n",
       "      <td>-0.374216</td>\n",
       "      <td>-0.363682</td>\n",
       "      <td>-0.363410</td>\n",
       "      <td>-0.392754</td>\n",
       "      <td>-0.364533</td>\n",
       "      <td>0.020895</td>\n",
       "      <td>293</td>\n",
       "    </tr>\n",
       "    <tr>\n",
       "      <th>70</th>\n",
       "      <td>1.317281</td>\n",
       "      <td>0.167130</td>\n",
       "      <td>0.039196</td>\n",
       "      <td>0.002593</td>\n",
       "      <td>0</td>\n",
       "      <td>0.01</td>\n",
       "      <td>8</td>\n",
       "      <td>100</td>\n",
       "      <td>{'model__gamma': 0, 'model__learning_rate': 0....</td>\n",
       "      <td>-0.332955</td>\n",
       "      <td>-0.378131</td>\n",
       "      <td>-0.375848</td>\n",
       "      <td>-0.372759</td>\n",
       "      <td>-0.396640</td>\n",
       "      <td>-0.371267</td>\n",
       "      <td>0.020890</td>\n",
       "      <td>297</td>\n",
       "    </tr>\n",
       "    <tr>\n",
       "      <th>220</th>\n",
       "      <td>1.357763</td>\n",
       "      <td>0.153184</td>\n",
       "      <td>0.042885</td>\n",
       "      <td>0.005884</td>\n",
       "      <td>5</td>\n",
       "      <td>0.01</td>\n",
       "      <td>8</td>\n",
       "      <td>100</td>\n",
       "      <td>{'model__gamma': 5, 'model__learning_rate': 0....</td>\n",
       "      <td>-0.332955</td>\n",
       "      <td>-0.378131</td>\n",
       "      <td>-0.375848</td>\n",
       "      <td>-0.372759</td>\n",
       "      <td>-0.396640</td>\n",
       "      <td>-0.371267</td>\n",
       "      <td>0.020890</td>\n",
       "      <td>297</td>\n",
       "    </tr>\n",
       "    <tr>\n",
       "      <th>295</th>\n",
       "      <td>1.431765</td>\n",
       "      <td>0.126167</td>\n",
       "      <td>0.046675</td>\n",
       "      <td>0.007684</td>\n",
       "      <td>7</td>\n",
       "      <td>0.01</td>\n",
       "      <td>8</td>\n",
       "      <td>100</td>\n",
       "      <td>{'model__gamma': 7, 'model__learning_rate': 0....</td>\n",
       "      <td>-0.332955</td>\n",
       "      <td>-0.378131</td>\n",
       "      <td>-0.375848</td>\n",
       "      <td>-0.372759</td>\n",
       "      <td>-0.396640</td>\n",
       "      <td>-0.371267</td>\n",
       "      <td>0.020890</td>\n",
       "      <td>297</td>\n",
       "    </tr>\n",
       "    <tr>\n",
       "      <th>145</th>\n",
       "      <td>1.299918</td>\n",
       "      <td>0.171956</td>\n",
       "      <td>0.039295</td>\n",
       "      <td>0.006451</td>\n",
       "      <td>3</td>\n",
       "      <td>0.01</td>\n",
       "      <td>8</td>\n",
       "      <td>100</td>\n",
       "      <td>{'model__gamma': 3, 'model__learning_rate': 0....</td>\n",
       "      <td>-0.332955</td>\n",
       "      <td>-0.378131</td>\n",
       "      <td>-0.375848</td>\n",
       "      <td>-0.372759</td>\n",
       "      <td>-0.396640</td>\n",
       "      <td>-0.371267</td>\n",
       "      <td>0.020890</td>\n",
       "      <td>297</td>\n",
       "    </tr>\n",
       "  </tbody>\n",
       "</table>\n",
       "<p>300 rows × 17 columns</p>\n",
       "</div>"
      ],
      "text/plain": [
       "     mean_fit_time  std_fit_time  mean_score_time  std_score_time  \\\n",
       "89        1.564410      0.131460         0.045678        0.009677   \n",
       "239       1.654889      0.193322         0.042087        0.007501   \n",
       "14        1.604313      0.162731         0.043683        0.009719   \n",
       "164       1.654099      0.208533         0.048670        0.014011   \n",
       "13        1.605300      0.133807         0.048470        0.007611   \n",
       "..             ...           ...              ...             ...   \n",
       "215       1.091277      0.138435         0.036901        0.002360   \n",
       "70        1.317281      0.167130         0.039196        0.002593   \n",
       "220       1.357763      0.153184         0.042885        0.005884   \n",
       "295       1.431765      0.126167         0.046675        0.007684   \n",
       "145       1.299918      0.171956         0.039295        0.006451   \n",
       "\n",
       "    param_model__gamma param_model__learning_rate param_model__max_depth  \\\n",
       "89                   3                        0.1                      6   \n",
       "239                  7                        0.1                      6   \n",
       "14                   0                        0.1                      6   \n",
       "164                  5                        0.1                      6   \n",
       "13                   0                        0.1                      6   \n",
       "..                 ...                        ...                    ...   \n",
       "215                  5                       0.01                      7   \n",
       "70                   0                       0.01                      8   \n",
       "220                  5                       0.01                      8   \n",
       "295                  7                       0.01                      8   \n",
       "145                  3                       0.01                      8   \n",
       "\n",
       "    param_model__n_estimators  \\\n",
       "89                        200   \n",
       "239                       200   \n",
       "14                        200   \n",
       "164                       200   \n",
       "13                        175   \n",
       "..                        ...   \n",
       "215                       100   \n",
       "70                        100   \n",
       "220                       100   \n",
       "295                       100   \n",
       "145                       100   \n",
       "\n",
       "                                                params  split0_test_score  \\\n",
       "89   {'model__gamma': 3, 'model__learning_rate': 0....          -0.230174   \n",
       "239  {'model__gamma': 7, 'model__learning_rate': 0....          -0.230174   \n",
       "14   {'model__gamma': 0, 'model__learning_rate': 0....          -0.230174   \n",
       "164  {'model__gamma': 5, 'model__learning_rate': 0....          -0.230174   \n",
       "13   {'model__gamma': 0, 'model__learning_rate': 0....          -0.230639   \n",
       "..                                                 ...                ...   \n",
       "215  {'model__gamma': 5, 'model__learning_rate': 0....          -0.328604   \n",
       "70   {'model__gamma': 0, 'model__learning_rate': 0....          -0.332955   \n",
       "220  {'model__gamma': 5, 'model__learning_rate': 0....          -0.332955   \n",
       "295  {'model__gamma': 7, 'model__learning_rate': 0....          -0.332955   \n",
       "145  {'model__gamma': 3, 'model__learning_rate': 0....          -0.332955   \n",
       "\n",
       "     split1_test_score  split2_test_score  split3_test_score  \\\n",
       "89           -0.221096          -0.191872          -0.201523   \n",
       "239          -0.221096          -0.191872          -0.201523   \n",
       "14           -0.221096          -0.191872          -0.201523   \n",
       "164          -0.221096          -0.191872          -0.201523   \n",
       "13           -0.220653          -0.192060          -0.202798   \n",
       "..                 ...                ...                ...   \n",
       "215          -0.374216          -0.363682          -0.363410   \n",
       "70           -0.378131          -0.375848          -0.372759   \n",
       "220          -0.378131          -0.375848          -0.372759   \n",
       "295          -0.378131          -0.375848          -0.372759   \n",
       "145          -0.378131          -0.375848          -0.372759   \n",
       "\n",
       "     split4_test_score  mean_test_score  std_test_score  rank_test_score  \n",
       "89           -0.241326        -0.217198        0.018182                1  \n",
       "239          -0.241326        -0.217198        0.018182                1  \n",
       "14           -0.241326        -0.217198        0.018182                1  \n",
       "164          -0.241326        -0.217198        0.018182                1  \n",
       "13           -0.240104        -0.217251        0.017644                5  \n",
       "..                 ...              ...             ...              ...  \n",
       "215          -0.392754        -0.364533        0.020895              293  \n",
       "70           -0.396640        -0.371267        0.020890              297  \n",
       "220          -0.396640        -0.371267        0.020890              297  \n",
       "295          -0.396640        -0.371267        0.020890              297  \n",
       "145          -0.396640        -0.371267        0.020890              297  \n",
       "\n",
       "[300 rows x 17 columns]"
      ]
     },
     "execution_count": 54,
     "metadata": {},
     "output_type": "execute_result"
    }
   ],
   "source": [
    "# Melihat hasil tuning dalam bentuk dataframe. Diurutkan berdasarkan RMSE, MAE & MAPE\n",
    "pd.DataFrame(random_xgb.cv_results_).sort_values('rank_test_score',ascending=True)"
   ]
  },
  {
   "cell_type": "code",
   "execution_count": 55,
   "id": "35b664a3",
   "metadata": {
    "scrolled": true
   },
   "outputs": [
    {
     "name": "stdout",
     "output_type": "stream",
     "text": [
      "XGBoost\n",
      "Best_score: -0.21719819846113114\n",
      "Best_params: {'model__gamma': 0, 'model__learning_rate': 0.1, 'model__max_depth': 6, 'model__n_estimators': 200}\n"
     ]
    }
   ],
   "source": [
    "# Cek skor dan params terbaik\n",
    "print('XGBoost')\n",
    "print('Best_score:', random_xgb.best_score_)\n",
    "print('Best_params:', random_xgb.best_params_)"
   ]
  },
  {
   "cell_type": "markdown",
   "id": "938385bc",
   "metadata": {},
   "source": [
    "**Predict to test set with the Tuned Model**\n",
    "\n",
    "Melakukan prediksi pada test set dengan menggunakan model XGBoost yang sudah dilakukan hyperparameter tuning"
   ]
  },
  {
   "cell_type": "code",
   "execution_count": 56,
   "id": "ba2c935c",
   "metadata": {
    "scrolled": true
   },
   "outputs": [
    {
     "data": {
      "text/html": [
       "<div>\n",
       "<style scoped>\n",
       "    .dataframe tbody tr th:only-of-type {\n",
       "        vertical-align: middle;\n",
       "    }\n",
       "\n",
       "    .dataframe tbody tr th {\n",
       "        vertical-align: top;\n",
       "    }\n",
       "\n",
       "    .dataframe thead th {\n",
       "        text-align: right;\n",
       "    }\n",
       "</style>\n",
       "<table border=\"1\" class=\"dataframe\">\n",
       "  <thead>\n",
       "    <tr style=\"text-align: right;\">\n",
       "      <th></th>\n",
       "      <th>RMSE</th>\n",
       "      <th>MAE</th>\n",
       "      <th>MAPE</th>\n",
       "    </tr>\n",
       "  </thead>\n",
       "  <tbody>\n",
       "    <tr>\n",
       "      <th>XGB</th>\n",
       "      <td>17029.313656</td>\n",
       "      <td>10738.66677</td>\n",
       "      <td>0.194108</td>\n",
       "    </tr>\n",
       "  </tbody>\n",
       "</table>\n",
       "</div>"
      ],
      "text/plain": [
       "             RMSE          MAE      MAPE\n",
       "XGB  17029.313656  10738.66677  0.194108"
      ]
     },
     "execution_count": 56,
     "metadata": {},
     "output_type": "execute_result"
    }
   ],
   "source": [
    "# Model XGBoost\n",
    "model = {'XGB': XGBRegressor(random_state=2020)}\n",
    "\n",
    "# Define model terhadap estimator terbaik\n",
    "xgb_tuning = random_xgb.best_estimator_\n",
    "\n",
    "# Fitting model\n",
    "xgb_tuning.fit(x_train, y_train)\n",
    "\n",
    "# Predict test set\n",
    "y_pred_xgb_tuning = xgb_tuning.predict(x_test)\n",
    "\n",
    "# Simpan nilai metrics RMSE, MAE & MAPE setelah tuning\n",
    "rmse_xgb_tuning = np.sqrt(mean_squared_error(y_test, y_pred_xgb_tuning))\n",
    "mae_xgb_tuning = mean_absolute_error(y_test, y_pred_xgb_tuning)\n",
    "mape_xgb_tuning = mean_absolute_percentage_error(y_test, y_pred_xgb_tuning)\n",
    "\n",
    "score_after_tuning = pd.DataFrame({'RMSE': rmse_xgb_tuning, 'MAE': mae_xgb_tuning, 'MAPE': mape_xgb_tuning}, index=model.keys())\n",
    "score_after_tuning"
   ]
  },
  {
   "cell_type": "markdown",
   "id": "e1120a72",
   "metadata": {},
   "source": [
    "**Perbandingan performa model XGBoost sebelum dan setelah dilakukan hyperparameter tuning**"
   ]
  },
  {
   "cell_type": "code",
   "execution_count": 57,
   "id": "7747ce97",
   "metadata": {
    "scrolled": true
   },
   "outputs": [
    {
     "name": "stdout",
     "output_type": "stream",
     "text": [
      "Sebelum dilakukan Hyperparameter tuning\n"
     ]
    },
    {
     "data": {
      "text/html": [
       "<div>\n",
       "<style scoped>\n",
       "    .dataframe tbody tr th:only-of-type {\n",
       "        vertical-align: middle;\n",
       "    }\n",
       "\n",
       "    .dataframe tbody tr th {\n",
       "        vertical-align: top;\n",
       "    }\n",
       "\n",
       "    .dataframe thead th {\n",
       "        text-align: right;\n",
       "    }\n",
       "</style>\n",
       "<table border=\"1\" class=\"dataframe\">\n",
       "  <thead>\n",
       "    <tr style=\"text-align: right;\">\n",
       "      <th></th>\n",
       "      <th>RMSE</th>\n",
       "      <th>MAE</th>\n",
       "      <th>MAPE</th>\n",
       "    </tr>\n",
       "  </thead>\n",
       "  <tbody>\n",
       "    <tr>\n",
       "      <th>xgb</th>\n",
       "      <td>17322.227348</td>\n",
       "      <td>11120.318708</td>\n",
       "      <td>0.200699</td>\n",
       "    </tr>\n",
       "  </tbody>\n",
       "</table>\n",
       "</div>"
      ],
      "text/plain": [
       "             RMSE           MAE      MAPE\n",
       "xgb  17322.227348  11120.318708  0.200699"
      ]
     },
     "execution_count": 57,
     "metadata": {},
     "output_type": "execute_result"
    }
   ],
   "source": [
    "# Sebelum hyperparameter tuning\n",
    "print('Sebelum dilakukan Hyperparameter tuning')\n",
    "score_before_tuning"
   ]
  },
  {
   "cell_type": "code",
   "execution_count": 58,
   "id": "78028a95",
   "metadata": {
    "scrolled": true
   },
   "outputs": [
    {
     "name": "stdout",
     "output_type": "stream",
     "text": [
      "Setelah dilakukan Hyperparameter tuning\n"
     ]
    },
    {
     "data": {
      "text/html": [
       "<div>\n",
       "<style scoped>\n",
       "    .dataframe tbody tr th:only-of-type {\n",
       "        vertical-align: middle;\n",
       "    }\n",
       "\n",
       "    .dataframe tbody tr th {\n",
       "        vertical-align: top;\n",
       "    }\n",
       "\n",
       "    .dataframe thead th {\n",
       "        text-align: right;\n",
       "    }\n",
       "</style>\n",
       "<table border=\"1\" class=\"dataframe\">\n",
       "  <thead>\n",
       "    <tr style=\"text-align: right;\">\n",
       "      <th></th>\n",
       "      <th>RMSE</th>\n",
       "      <th>MAE</th>\n",
       "      <th>MAPE</th>\n",
       "    </tr>\n",
       "  </thead>\n",
       "  <tbody>\n",
       "    <tr>\n",
       "      <th>XGB</th>\n",
       "      <td>17029.313656</td>\n",
       "      <td>10738.66677</td>\n",
       "      <td>0.194108</td>\n",
       "    </tr>\n",
       "  </tbody>\n",
       "</table>\n",
       "</div>"
      ],
      "text/plain": [
       "             RMSE          MAE      MAPE\n",
       "XGB  17029.313656  10738.66677  0.194108"
      ]
     },
     "execution_count": 58,
     "metadata": {},
     "output_type": "execute_result"
    }
   ],
   "source": [
    "# Setelah hyperparameter tuning\n",
    "print('Setelah dilakukan Hyperparameter tuning')\n",
    "score_after_tuning"
   ]
  },
  {
   "cell_type": "markdown",
   "id": "236ff990",
   "metadata": {},
   "source": [
    "Berdasarkan nilai RMSE, MAE, dan MAPE terlihat bahwa nilai tersebut berkurang ketika dilakukan hyperparameter tuning sehingga performa model naik. Model yang akan digunakan adalah model XGBoost yang telah dilakukan hyperparameter tuning"
   ]
  },
  {
   "cell_type": "code",
   "execution_count": 59,
   "id": "7dd2c86d",
   "metadata": {
    "scrolled": false
   },
   "outputs": [
    {
     "data": {
      "image/png": "[encoded data removed]",
      "text/plain": [
       "<Figure size 576x576 with 1 Axes>"
      ]
     },
     "metadata": {
      "needs_background": "light"
     },
     "output_type": "display_data"
    }
   ],
   "source": [
    "plt.figure(figsize=(8, 8))\n",
    "plot = sns.scatterplot(x=y_test, y=y_pred_xgb_tuning).set(title='Actual vs. Prediction Price', \n",
    "                                               xlabel='Actual Price', \n",
    "                                               ylabel='Predicted Price')\n",
    "plt.show()"
   ]
  },
  {
   "cell_type": "markdown",
   "id": "eac6caa9",
   "metadata": {},
   "source": [
    "Scatterplot diatas menunjukkan bahwa model yang dibuat cukup linear terhadap harga aktual. Namun adanya nilai-nilai error yang besar membuat perbedaan yang cukup signifikan antaran nilai RMSE dan MAE. Hal ini dapat tergambarkan pada plot diatas, di mana terdapat harga aktual yang rendah namun prediksinya lebih tinggi (over estimation), dan harga aktual yang tinggi namun di prediksi lebih rendah (under estimation). Tetapi nilai MAPE yang didapat sekitar 19.4% menjadikan model ini dapat dikateogrikan ke dalam 'reasonable forecasting'."
   ]
  },
  {
   "cell_type": "markdown",
   "id": "552d991b",
   "metadata": {},
   "source": [
    "**Feature Importances**"
   ]
  },
  {
   "cell_type": "markdown",
   "id": "e66b0a20",
   "metadata": {},
   "source": [
    "Feature importances digunakan untuk mengetahui fitur apa saja yang sangat memengaruhi target. "
   ]
  },
  {
   "cell_type": "code",
   "execution_count": 60,
   "id": "ceed4d00",
   "metadata": {
    "scrolled": false
   },
   "outputs": [],
   "source": [
    "# xgb_tuning[0].transformers_"
   ]
  },
  {
   "cell_type": "code",
   "execution_count": 61,
   "id": "f4371db9",
   "metadata": {},
   "outputs": [
    {
     "data": {
      "text/plain": [
       "array(['x0_Semi Full', 'x0_Standard', 'x1_Other', 'x1_Saudi', 'x2_Manual'],\n",
       "      dtype=object)"
      ]
     },
     "execution_count": 61,
     "metadata": {},
     "output_type": "execute_result"
    }
   ],
   "source": [
    "xgb_tuning[0].transformers_[0][1].get_feature_names()"
   ]
  },
  {
   "cell_type": "code",
   "execution_count": 62,
   "id": "9dd637c9",
   "metadata": {},
   "outputs": [
    {
     "data": {
      "text/plain": [
       "['Type_0',\n",
       " 'Type_1',\n",
       " 'Type_2',\n",
       " 'Type_3',\n",
       " 'Type_4',\n",
       " 'Type_5',\n",
       " 'Type_6',\n",
       " 'Type_7',\n",
       " 'Type_8',\n",
       " 'Region_0',\n",
       " 'Region_1',\n",
       " 'Region_2',\n",
       " 'Region_3',\n",
       " 'Region_4',\n",
       " 'Make_0',\n",
       " 'Make_1',\n",
       " 'Make_2',\n",
       " 'Make_3',\n",
       " 'Make_4',\n",
       " 'Make_5']"
      ]
     },
     "execution_count": 62,
     "metadata": {},
     "output_type": "execute_result"
    }
   ],
   "source": [
    "xgb_tuning[0].transformers_[1][1].get_feature_names()"
   ]
  },
  {
   "cell_type": "code",
   "execution_count": 63,
   "id": "7af46bef",
   "metadata": {},
   "outputs": [
    {
     "data": {
      "text/plain": [
       "array(['Mileage_0.0', 'Mileage_1.0', 'Mileage_2.0', 'Mileage_3.0'],\n",
       "      dtype=object)"
      ]
     },
     "execution_count": 63,
     "metadata": {},
     "output_type": "execute_result"
    }
   ],
   "source": [
    "xgb_tuning[0].transformers_[2][1].get_feature_names_out()"
   ]
  },
  {
   "cell_type": "code",
   "execution_count": 64,
   "id": "9fa50cbc",
   "metadata": {},
   "outputs": [
    {
     "data": {
      "text/plain": [
       "Index(['Year', 'Engine_Size'], dtype='object')"
      ]
     },
     "execution_count": 64,
     "metadata": {},
     "output_type": "execute_result"
    }
   ],
   "source": [
    "x.columns[xgb_tuning[0].transformers_[3][2]]"
   ]
  },
  {
   "cell_type": "code",
   "execution_count": 65,
   "id": "be33aefd",
   "metadata": {},
   "outputs": [],
   "source": [
    "feature = list(xgb_tuning[0].transformers_[0][1].get_feature_names()) + xgb_tuning[0].transformers_[1][1].get_feature_names() + list(xgb_tuning[0].transformers_[2][1].get_feature_names_out()) + list(x.columns[xgb_tuning[0].transformers_[3][2]])"
   ]
  },
  {
   "cell_type": "code",
   "execution_count": 66,
   "id": "2dfac61e",
   "metadata": {},
   "outputs": [],
   "source": [
    "x_train_preprocessed = pd.DataFrame(transformer.fit_transform(x_train))\n",
    "x_test_preprocessed = pd.DataFrame(transformer.transform(x_test))"
   ]
  },
  {
   "cell_type": "code",
   "execution_count": 67,
   "id": "327f5bd9",
   "metadata": {},
   "outputs": [],
   "source": [
    "x_train_preprocessed.columns = feature\n",
    "x_test_preprocessed.columns = feature"
   ]
  },
  {
   "cell_type": "code",
   "execution_count": 68,
   "id": "c7938083",
   "metadata": {
    "scrolled": false
   },
   "outputs": [
    {
     "data": {
      "text/plain": [
       "<AxesSubplot:>"
      ]
     },
     "execution_count": 68,
     "metadata": {},
     "output_type": "execute_result"
    },
    {
     "data": {
      "image/png": "[encoded data removed]",
      "text/plain": [
       "<Figure size 720x576 with 1 Axes>"
      ]
     },
     "metadata": {
      "needs_background": "light"
     },
     "output_type": "display_data"
    }
   ],
   "source": [
    "# plot feature importances\n",
    "\n",
    "pd.DataFrame({\n",
    "    'imp' : xgb_tuning['model'].feature_importances_\n",
    "}, index=feature).sort_values('imp', ascending=False).plot(kind='barh', figsize=(10,8))"
   ]
  },
  {
   "cell_type": "markdown",
   "id": "15d20618",
   "metadata": {},
   "source": [
    "# Conclusion"
   ]
  },
  {
   "cell_type": "markdown",
   "id": "9ef90286",
   "metadata": {},
   "source": [
    "Berdasarkan pemodelan yang telah dilakukan, fitur `Year`, `Engine size`, dan `Make` menjadi fitur yang paling berpengaruh terhadap `Price` mobil bekas di Saudi Arabia.\n",
    "\n",
    "Metriks evaluasi yang digunakan pada model ini adalah MAPE. Ditinjau dari nilai MAPE yang dihasilkan oleh model setelah dilakukan hyperparameter tuning, yaitu sebesar 19.4%. Model yang dibuat ini digunakan untuk memperkirakan harga mobil bekas di Saudi Arabia pada rentang nilai yang telah dilatih pada model, maksimal 183125 SAR), maka perkiraan harganya akan meleset kurang lebih sebesar 19.4% dari harga seharusnya. Namun, tidak menutup kemungkinan juga prediksinya meleset lebih jauh karena adanya bias pada model.\n",
    "\n",
    "Model ini dapat diimporvisasi agar menghasilkan prediksi yang lebih baik lagi, namun kita dapat melakukan A/B testing terhadap model yang sudah dibuat ini untuk mengetahui tingkat efektivitas penggunaan model terhadap peningkatan jumlah penjualan mobil bekas ini. Nantinya, dari hasil A/B testing kita akan mendapatkan insight lain terkait hal apa saja yang dapat diperbaiki pada model."
   ]
  },
  {
   "cell_type": "markdown",
   "id": "e4870e82",
   "metadata": {},
   "source": [
    "# Recommendation"
   ]
  },
  {
   "cell_type": "markdown",
   "id": "004d0f61",
   "metadata": {},
   "source": [
    "1. Mengecek prediksi mana saja yang memiliki nilai error yang tinggi dengan cara mengelompokkan error tersebut ke dalam grup overestimation dan underestimation. setelahnya kita dapat mengecek hubungan antara error tersebut dengan tiap variabel independen. Pada akhirnya kita bisa mengetahui sebenarnya variabel mana saja dan aspek apa saja yang menyebabkan model menghasilkan error yang tinggi, sehingga kita bisa melakukan training ulang dengan penerapan feature engineering yang lain.\n",
    "1. Melakukan penambahan data menjadi lebih banyak lagi sehingga model mendapatkan referensi data lebih banyak untuk dipelajari. Penambahan data dapat dilakukan dengan penambahan data terkini untuk mobil bekas di Saudi Arabia sehingga dapat mengimprovisasi kapasitas prediksi dari model.\n",
    "1. Menambahkan fitur yang memiliki korelasi dengan price mobil, seperti kondisi mobil, garansi resmi mobil, dan lain-lain.\n",
    "2. Menambahkan fitur yang membedakan antara mobil classic atau mobil biasa (operasional sehari-hari), karena antara mobil classic dengan mobil biasa memberikan hasil korelasi yang berbeda dari harga terhadap mileagenya. Sebagai contoh, mobil pada tahun 1980 akan lebih mahal daripada mobil tahun 2007. Namun, untuk mengkategorikan hal tersebut diperlukan domain knowledge mengenai apa saja mobil yang termasuk dalam mobil classic. Adanya perbedaan ini akan memengaruhi model secara signifikan.\n",
    "3. Untuk Mobil dengan kategori mobil mewah lebih baik dibuat model tersendiri atau mungkin platform ini dikhususkan untuk menjual mobil biasa yang digunakan untuk sehari-hari, karena dengan adanya data mobil mewah akan memengaruhi model secara signifikan.\n"
   ]
  },
  {
   "cell_type": "markdown",
   "id": "45e25968",
   "metadata": {},
   "source": [
    "# Save Model"
   ]
  },
  {
   "cell_type": "code",
   "execution_count": 69,
   "id": "900bc4e1",
   "metadata": {},
   "outputs": [],
   "source": [
    "# Import library pickle\n",
    "import pickle"
   ]
  },
  {
   "cell_type": "code",
   "execution_count": 70,
   "id": "eb777119",
   "metadata": {
    "scrolled": true
   },
   "outputs": [],
   "source": [
    "# save model\n",
    "\n",
    "xgb_tuning = random_xgb.best_estimator_\n",
    "xgb_tuning.fit(x,y)\n",
    "\n",
    "pickle.dump(xgb_tuning, open('model_used_car_saudi.sav', 'wb'))"
   ]
  },
  {
   "cell_type": "code",
   "execution_count": 71,
   "id": "7352e6ab",
   "metadata": {},
   "outputs": [],
   "source": [
    "# Load model\n",
    "loaded_model = pickle.load(open('model_used_car_saudi.sav', 'rb'))\n",
    "# np.sqrt(mean_absolute_percentage_error(y, loaded_model.predict(x)))"
   ]
  }
 ],
 "metadata": {
  "kernelspec": {
   "display_name": "Python 3 (ipykernel)",
   "language": "python",
   "name": "python3"
  },
  "language_info": {
   "codemirror_mode": {
    "name": "ipython",
    "version": 3
   },
   "file_extension": ".py",
   "mimetype": "text/x-python",
   "name": "python",
   "nbconvert_exporter": "python",
   "pygments_lexer": "ipython3",
   "version": "3.9.7"
  },
  "toc": {
   "base_numbering": 1,
   "nav_menu": {},
   "number_sections": true,
   "sideBar": true,
   "skip_h1_title": false,
   "title_cell": "Table of Contents",
   "title_sidebar": "Contents",
   "toc_cell": false,
   "toc_position": {},
   "toc_section_display": true,
   "toc_window_display": false
  },
  "varInspector": {
   "cols": {
    "lenName": 16,
    "lenType": 16,
    "lenVar": 40
   },
   "kernels_config": {
    "python": {
     "delete_cmd_postfix": "",
     "delete_cmd_prefix": "del ",
     "library": "var_list.py",
     "varRefreshCmd": "print(var_dic_list())"
    },
    "r": {
     "delete_cmd_postfix": ") ",
     "delete_cmd_prefix": "rm(",
     "library": "var_list.r",
     "varRefreshCmd": "cat(var_dic_list()) "
    }
   },
   "types_to_exclude": [
    "module",
    "function",
    "builtin_function_or_method",
    "instance",
    "_Feature"
   ],
   "window_display": false
  }
 },
 "nbformat": 4,
 "nbformat_minor": 5
}
